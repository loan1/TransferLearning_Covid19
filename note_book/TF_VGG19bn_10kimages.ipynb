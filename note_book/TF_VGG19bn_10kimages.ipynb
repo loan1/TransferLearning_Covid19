{
 "cells": [
  {
   "cell_type": "markdown",
   "metadata": {},
   "source": [
    "dataset: https://drive.google.com/file/d/18aMf57_1u2AWInnMB67s3Xku0sPzm28u/view"
   ]
  },
  {
<<<<<<< HEAD
=======
   "cell_type": "markdown",
   "metadata": {},
   "source": [
    "# B1. Import các thư viện cần thiết"
   ]
  },
  {
>>>>>>> 288965d (17/12/2021)
   "cell_type": "code",
   "execution_count": 1,
   "metadata": {},
   "outputs": [],
   "source": [
    "#importing the libraries\n",
    "import pandas as pd\n",
    "import numpy as np\n",
    "import time\n",
    "import copy\n",
    "import warnings\n",
    "from tqdm import tqdm\n",
    "\n",
    "\n",
    "#for Data preprocessing and Augmentation\n",
    "import os\n",
    "from imutils import paths\n",
    "import cv2\n",
    "# import Augmentor\n",
    "import torchvision.transforms as transforms\n",
    "\n",
    "# from sklearn.preprocessing import OneHotEncoder\n",
    "\n",
    "#for reading and displaying images\n",
    "import matplotlib.pyplot as plt\n",
    "from PIL import Image\n",
    "\n",
    "#Pytorch libraries and modules\n",
    "import torch\n",
    "import torch.nn as nn\n",
    "import torch.nn.functional as F\n",
    "from torchsummary import summary\n",
    "\n",
    "from torch.nn import Linear, CrossEntropyLoss\n",
    "from torch.optim import Adam, lr_scheduler\n",
    "from torch.utils.data import DataLoader,Dataset\n",
    "from sklearn.model_selection import train_test_split\n",
    "\n",
    "#torchvision for pre-trained models\n",
    "import torchvision\n",
    "from torchvision import datasets, models\n",
    "\n",
    "#for evaluating model\n",
<<<<<<< HEAD
    "from sklearn.metrics import confusion_matrix, accuracy_score, classification_report, ConfusionMatrixDisplay\n",
    "# from sklearn.model_selection import KFold\n"
=======
    "from sklearn.metrics import confusion_matrix, accuracy_score, classification_report, ConfusionMatrixDisplay\n"
>>>>>>> 288965d (17/12/2021)
   ]
  },
  {
   "cell_type": "markdown",
   "metadata": {},
   "source": [
<<<<<<< HEAD
    "# Setting"
=======
    "# B2. Dữ liệu đầu vào"
   ]
  },
  {
   "cell_type": "markdown",
   "metadata": {},
   "source": [
    "# A. Khởi tạo giá trị các tham số"
>>>>>>> 288965d (17/12/2021)
   ]
  },
  {
   "cell_type": "code",
   "execution_count": 2,
   "metadata": {},
   "outputs": [],
   "source": [
<<<<<<< HEAD
    "BATCH_SIZE = 64\n",
=======
    "BATCH_SIZE = 32\n",
>>>>>>> 288965d (17/12/2021)
    "classes = ['Normal', 'Covid']\n",
    "num_classes = 2\n",
    "num_epochs = 15\n",
    "criterion = CrossEntropyLoss()\n",
<<<<<<< HEAD
    "CHECKPOINT_PATH = './FT_VGG19bn1.pt'\n",
    "path_dataset = '../dataset10K_images/'\n",
    "\n",
    "std = np.array([0.229, 0.224, 0.225])\n",
    "mean = np.array([0.485, 0.456, 0.406])\n",
    "device = torch.device('cuda:0' if torch.cuda.is_available() else 'cpu')"
=======
    "CHECKPOINT_PATH = '../model/FT_VGG19bn_new.pt'\n",
    "path_dataset = '/media/trucloan/Data/Research/TransferLearningVGG19bnCovid1910k_images/dataset10K_images/'\n",
    "\n",
    "std = np.array([0.229, 0.224, 0.225])\n",
    "mean = np.array([0.485, 0.456, 0.406])\n",
    "device = torch.device('cuda:0' if torch.cuda.is_available() else 'cpu')\n",
    "\n",
    "# Flag for feature extracting. When False, we finetune the whole model, \n",
    "#   when True we only update the reshaped layer params\n",
    "feature_extract = False"
>>>>>>> 288965d (17/12/2021)
   ]
  },
  {
   "cell_type": "markdown",
   "metadata": {},
   "source": [
<<<<<<< HEAD
    "# Path dataset"
=======
    "# B. Đường dẫn đến tập dữ liệu"
>>>>>>> 288965d (17/12/2021)
   ]
  },
  {
   "cell_type": "code",
   "execution_count": 3,
   "metadata": {},
<<<<<<< HEAD
   "outputs": [
    {
     "data": {
      "text/plain": [
       "5000"
      ]
     },
     "execution_count": 3,
     "metadata": {},
     "output_type": "execute_result"
    }
   ],
=======
   "outputs": [],
>>>>>>> 288965d (17/12/2021)
   "source": [
    "normal = path_dataset + 'NORMAL/'\n",
    "covid = path_dataset + 'COVID/'\n",
    "\n",
    "dir_normal = os.listdir(normal)\n",
    "dir_covid = os.listdir(covid)\n",
    "\n",
<<<<<<< HEAD
    "# dataset = np.concatenate(dir_normal, dir_covid, axis = 0)\n",
    "# dataset\n",
    "dict_data0 = {'path': normal, 'image_name': dir_normal, 'labels': 0}\n",
    "dict_data1 = {'path': covid, 'image_name': dir_covid, 'labels': 1}\n",
    "\n",
    "# len(dict_data['COVID'])\n"
=======
    "\n",
    "dict_data0 = {'path': normal, 'image_name': dir_normal, 'labels': 0}\n",
    "dict_data1 = {'path': covid, 'image_name': dir_covid, 'labels': 1}\n"
>>>>>>> 288965d (17/12/2021)
   ]
  },
  {
   "cell_type": "code",
<<<<<<< HEAD
   "execution_count": null,
   "metadata": {},
   "outputs": [],
   "source": [
    "import pandas as pd\n",
    "\n",
=======
   "execution_count": 4,
   "metadata": {},
   "outputs": [],
   "source": [
>>>>>>> 288965d (17/12/2021)
    "df0 = pd.DataFrame(dict_data0)\n",
    "df1 = pd.DataFrame(dict_data1)\n",
    "df = pd.concat([df0, df1])\n",
    "df.to_csv('./data.csv', index = False)"
   ]
  },
  {
<<<<<<< HEAD
   "cell_type": "markdown",
   "metadata": {},
   "source": [
    "# Image Preprocessing"
=======
   "cell_type": "code",
   "execution_count": 5,
   "metadata": {},
   "outputs": [
    {
     "name": "stdout",
     "output_type": "stream",
     "text": [
      "<class 'pandas.core.frame.DataFrame'>\n",
      "Int64Index: 10000 entries, 0 to 4999\n",
      "Data columns (total 3 columns):\n",
      " #   Column      Non-Null Count  Dtype \n",
      "---  ------      --------------  ----- \n",
      " 0   path        10000 non-null  object\n",
      " 1   image_name  10000 non-null  object\n",
      " 2   labels      10000 non-null  int64 \n",
      "dtypes: int64(1), object(2)\n",
      "memory usage: 312.5+ KB\n"
     ]
    }
   ],
   "source": [
    "df.info()"
>>>>>>> 288965d (17/12/2021)
   ]
  },
  {
   "cell_type": "code",
   "execution_count": 6,
   "metadata": {},
<<<<<<< HEAD
   "outputs": [
    {
     "data": {
      "text/plain": [
       "array([1, 1, 1, ..., 1, 1, 1])"
      ]
     },
     "execution_count": 6,
     "metadata": {},
     "output_type": "execute_result"
    }
   ],
   "source": [
    "df.info()"
=======
   "outputs": [],
   "source": [
    "train_data, test_data=train_test_split(df, test_size=0.2, random_state = 42, shuffle=True)\n",
    "train_data, val_data =train_test_split(train_data, test_size=0.2, random_state = 42, shuffle=True)"
>>>>>>> 288965d (17/12/2021)
   ]
  },
  {
   "cell_type": "code",
   "execution_count": 7,
   "metadata": {},
   "outputs": [
    {
     "name": "stdout",
     "output_type": "stream",
     "text": [
<<<<<<< HEAD
      "5000 5000\n"
=======
      "6400 1600 2000\n"
>>>>>>> 288965d (17/12/2021)
     ]
    }
   ],
   "source": [
<<<<<<< HEAD
    "train_data, test_data=train_test_split(df, test_size=0.2, random_state = 42, shuffle=True)\n",
    "train_data, val_data =train_test_split(train_data, test_size=0.2, random_state = 42, shuffle=True)"
   ]
  },
  {
   "cell_type": "code",
   "execution_count": 8,
   "metadata": {},
   "outputs": [
    {
     "data": {
      "text/plain": [
       "array([[[[0.1254902 , 0.1254902 , 0.1254902 ],\n",
       "         [0.1254902 , 0.1254902 , 0.1254902 ],\n",
       "         [0.1254902 , 0.1254902 , 0.1254902 ],\n",
       "         ...,\n",
       "         [0.1254902 , 0.1254902 , 0.1254902 ],\n",
       "         [0.11764706, 0.11764706, 0.11764706],\n",
       "         [0.1372549 , 0.1372549 , 0.1372549 ]],\n",
       "\n",
       "        [[0.1254902 , 0.1254902 , 0.1254902 ],\n",
       "         [0.1254902 , 0.1254902 , 0.1254902 ],\n",
       "         [0.11372549, 0.11372549, 0.11372549],\n",
       "         ...,\n",
       "         [0.11764706, 0.11764706, 0.11764706],\n",
       "         [0.12941176, 0.12941176, 0.12941176],\n",
       "         [0.12941176, 0.12941176, 0.12941176]],\n",
       "\n",
       "        [[0.1254902 , 0.1254902 , 0.1254902 ],\n",
       "         [0.1254902 , 0.1254902 , 0.1254902 ],\n",
       "         [0.13333333, 0.13333333, 0.13333333],\n",
       "         ...,\n",
       "         [0.1254902 , 0.1254902 , 0.1254902 ],\n",
       "         [0.13333333, 0.13333333, 0.13333333],\n",
       "         [0.12156863, 0.12156863, 0.12156863]],\n",
       "\n",
       "        ...,\n",
       "\n",
       "        [[0.1254902 , 0.1254902 , 0.1254902 ],\n",
       "         [0.11764706, 0.11764706, 0.11764706],\n",
       "         [0.10980392, 0.10980392, 0.10980392],\n",
       "         ...,\n",
       "         [0.12941176, 0.12941176, 0.12941176],\n",
       "         [0.12941176, 0.12941176, 0.12941176],\n",
       "         [0.1254902 , 0.1254902 , 0.1254902 ]],\n",
       "\n",
       "        [[0.11372549, 0.11372549, 0.11372549],\n",
       "         [0.10588235, 0.10588235, 0.10588235],\n",
       "         [0.11372549, 0.11372549, 0.11372549],\n",
       "         ...,\n",
       "         [0.1254902 , 0.1254902 , 0.1254902 ],\n",
       "         [0.12941176, 0.12941176, 0.12941176],\n",
       "         [0.1372549 , 0.1372549 , 0.1372549 ]],\n",
       "\n",
       "        [[0.12156863, 0.12156863, 0.12156863],\n",
       "         [0.12156863, 0.12156863, 0.12156863],\n",
       "         [0.11372549, 0.11372549, 0.11372549],\n",
       "         ...,\n",
       "         [0.12941176, 0.12941176, 0.12941176],\n",
       "         [0.12156863, 0.12156863, 0.12156863],\n",
       "         [0.13333333, 0.13333333, 0.13333333]]],\n",
       "\n",
       "\n",
       "       [[[0.15686275, 0.15686275, 0.15686275],\n",
       "         [0.14117647, 0.14117647, 0.14117647],\n",
       "         [0.11764706, 0.11764706, 0.11764706],\n",
       "         ...,\n",
       "         [0.43529412, 0.43529412, 0.43529412],\n",
       "         [0.4627451 , 0.4627451 , 0.4627451 ],\n",
       "         [0.40784314, 0.40784314, 0.40784314]],\n",
       "\n",
       "        [[0.15294118, 0.15294118, 0.15294118],\n",
       "         [0.12941176, 0.12941176, 0.12941176],\n",
       "         [0.12156863, 0.12156863, 0.12156863],\n",
       "         ...,\n",
       "         [0.48627451, 0.48627451, 0.48627451],\n",
       "         [0.43921569, 0.43921569, 0.43921569],\n",
       "         [0.42745098, 0.42745098, 0.42745098]],\n",
       "\n",
       "        [[0.14901961, 0.14901961, 0.14901961],\n",
       "         [0.14509804, 0.14509804, 0.14509804],\n",
       "         [0.13333333, 0.13333333, 0.13333333],\n",
       "         ...,\n",
       "         [0.45098039, 0.45098039, 0.45098039],\n",
       "         [0.43529412, 0.43529412, 0.43529412],\n",
       "         [0.41568627, 0.41568627, 0.41568627]],\n",
       "\n",
       "        ...,\n",
       "\n",
       "        [[0.15686275, 0.15686275, 0.15686275],\n",
       "         [0.16078431, 0.16078431, 0.16078431],\n",
       "         [0.16862745, 0.16862745, 0.16862745],\n",
       "         ...,\n",
       "         [0.13333333, 0.13333333, 0.13333333],\n",
       "         [0.12941176, 0.12941176, 0.12941176],\n",
       "         [0.1372549 , 0.1372549 , 0.1372549 ]],\n",
       "\n",
       "        [[0.16078431, 0.16078431, 0.16078431],\n",
       "         [0.15294118, 0.15294118, 0.15294118],\n",
       "         [0.15294118, 0.15294118, 0.15294118],\n",
       "         ...,\n",
       "         [0.12156863, 0.12156863, 0.12156863],\n",
       "         [0.1254902 , 0.1254902 , 0.1254902 ],\n",
       "         [0.13333333, 0.13333333, 0.13333333]],\n",
       "\n",
       "        [[0.14117647, 0.14117647, 0.14117647],\n",
       "         [0.15686275, 0.15686275, 0.15686275],\n",
       "         [0.14901961, 0.14901961, 0.14901961],\n",
       "         ...,\n",
       "         [0.11372549, 0.11372549, 0.11372549],\n",
       "         [0.1254902 , 0.1254902 , 0.1254902 ],\n",
       "         [0.12156863, 0.12156863, 0.12156863]]],\n",
       "\n",
       "\n",
       "       [[[0.16862745, 0.16862745, 0.16862745],\n",
       "         [0.15294118, 0.15294118, 0.15294118],\n",
       "         [0.14509804, 0.14509804, 0.14509804],\n",
       "         ...,\n",
       "         [0.10980392, 0.10980392, 0.10980392],\n",
       "         [0.11764706, 0.11764706, 0.11764706],\n",
       "         [0.10980392, 0.10980392, 0.10980392]],\n",
       "\n",
       "        [[0.16470588, 0.16470588, 0.16470588],\n",
       "         [0.1372549 , 0.1372549 , 0.1372549 ],\n",
       "         [0.16078431, 0.16078431, 0.16078431],\n",
       "         ...,\n",
       "         [0.10980392, 0.10980392, 0.10980392],\n",
       "         [0.10980392, 0.10980392, 0.10980392],\n",
       "         [0.11764706, 0.11764706, 0.11764706]],\n",
       "\n",
       "        [[0.16470588, 0.16470588, 0.16470588],\n",
       "         [0.14509804, 0.14509804, 0.14509804],\n",
       "         [0.14117647, 0.14117647, 0.14117647],\n",
       "         ...,\n",
       "         [0.12156863, 0.12156863, 0.12156863],\n",
       "         [0.10196078, 0.10196078, 0.10196078],\n",
       "         [0.1254902 , 0.1254902 , 0.1254902 ]],\n",
       "\n",
       "        ...,\n",
       "\n",
       "        [[0.10980392, 0.10980392, 0.10980392],\n",
       "         [0.11764706, 0.11764706, 0.11764706],\n",
       "         [0.10196078, 0.10196078, 0.10196078],\n",
       "         ...,\n",
       "         [0.14117647, 0.14117647, 0.14117647],\n",
       "         [0.13333333, 0.13333333, 0.13333333],\n",
       "         [0.16078431, 0.16078431, 0.16078431]],\n",
       "\n",
       "        [[0.12156863, 0.12156863, 0.12156863],\n",
       "         [0.11372549, 0.11372549, 0.11372549],\n",
       "         [0.11372549, 0.11372549, 0.11372549],\n",
       "         ...,\n",
       "         [0.11764706, 0.11764706, 0.11764706],\n",
       "         [0.1372549 , 0.1372549 , 0.1372549 ],\n",
       "         [0.13333333, 0.13333333, 0.13333333]],\n",
       "\n",
       "        [[0.12156863, 0.12156863, 0.12156863],\n",
       "         [0.12156863, 0.12156863, 0.12156863],\n",
       "         [0.11372549, 0.11372549, 0.11372549],\n",
       "         ...,\n",
       "         [0.12156863, 0.12156863, 0.12156863],\n",
       "         [0.13333333, 0.13333333, 0.13333333],\n",
       "         [0.14509804, 0.14509804, 0.14509804]]],\n",
       "\n",
       "\n",
       "       ...,\n",
       "\n",
       "\n",
       "       [[[0.        , 0.        , 0.        ],\n",
       "         [0.        , 0.        , 0.        ],\n",
       "         [0.        , 0.        , 0.        ],\n",
       "         ...,\n",
       "         [0.        , 0.        , 0.        ],\n",
       "         [0.        , 0.        , 0.        ],\n",
       "         [0.        , 0.        , 0.        ]],\n",
       "\n",
       "        [[0.        , 0.        , 0.        ],\n",
       "         [0.        , 0.        , 0.        ],\n",
       "         [0.        , 0.        , 0.        ],\n",
       "         ...,\n",
       "         [0.00784314, 0.00784314, 0.00784314],\n",
       "         [0.        , 0.        , 0.        ],\n",
       "         [0.        , 0.        , 0.        ]],\n",
       "\n",
       "        [[0.        , 0.        , 0.        ],\n",
       "         [0.        , 0.        , 0.        ],\n",
       "         [0.        , 0.        , 0.        ],\n",
       "         ...,\n",
       "         [0.00784314, 0.00784314, 0.00784314],\n",
       "         [0.        , 0.        , 0.        ],\n",
       "         [0.        , 0.        , 0.        ]],\n",
       "\n",
       "        ...,\n",
       "\n",
       "        [[0.        , 0.        , 0.        ],\n",
       "         [0.        , 0.        , 0.        ],\n",
       "         [0.        , 0.        , 0.        ],\n",
       "         ...,\n",
       "         [0.        , 0.        , 0.        ],\n",
       "         [0.        , 0.        , 0.        ],\n",
       "         [0.        , 0.        , 0.        ]],\n",
       "\n",
       "        [[0.        , 0.        , 0.        ],\n",
       "         [0.        , 0.        , 0.        ],\n",
       "         [0.        , 0.        , 0.        ],\n",
       "         ...,\n",
       "         [0.        , 0.        , 0.        ],\n",
       "         [0.        , 0.        , 0.        ],\n",
       "         [0.        , 0.        , 0.        ]],\n",
       "\n",
       "        [[0.01568627, 0.01568627, 0.01568627],\n",
       "         [0.        , 0.        , 0.        ],\n",
       "         [0.        , 0.        , 0.        ],\n",
       "         ...,\n",
       "         [0.        , 0.        , 0.        ],\n",
       "         [0.        , 0.        , 0.        ],\n",
       "         [0.        , 0.        , 0.        ]]],\n",
       "\n",
       "\n",
       "       [[[0.        , 0.        , 0.        ],\n",
       "         [0.        , 0.        , 0.        ],\n",
       "         [0.        , 0.        , 0.        ],\n",
       "         ...,\n",
       "         [0.        , 0.        , 0.        ],\n",
       "         [0.        , 0.        , 0.        ],\n",
       "         [0.        , 0.        , 0.        ]],\n",
       "\n",
       "        [[0.        , 0.        , 0.        ],\n",
       "         [0.        , 0.        , 0.        ],\n",
       "         [0.        , 0.        , 0.        ],\n",
       "         ...,\n",
       "         [0.        , 0.        , 0.        ],\n",
       "         [0.        , 0.        , 0.        ],\n",
       "         [0.        , 0.        , 0.        ]],\n",
       "\n",
       "        [[0.        , 0.        , 0.        ],\n",
       "         [0.        , 0.        , 0.        ],\n",
       "         [0.        , 0.        , 0.        ],\n",
       "         ...,\n",
       "         [0.        , 0.        , 0.        ],\n",
       "         [0.        , 0.        , 0.        ],\n",
       "         [0.        , 0.        , 0.        ]],\n",
       "\n",
       "        ...,\n",
       "\n",
       "        [[0.        , 0.        , 0.        ],\n",
       "         [0.        , 0.        , 0.        ],\n",
       "         [0.        , 0.        , 0.        ],\n",
       "         ...,\n",
       "         [0.        , 0.        , 0.        ],\n",
       "         [0.        , 0.        , 0.        ],\n",
       "         [0.        , 0.        , 0.        ]],\n",
       "\n",
       "        [[0.        , 0.        , 0.        ],\n",
       "         [0.        , 0.        , 0.        ],\n",
       "         [0.        , 0.        , 0.        ],\n",
       "         ...,\n",
       "         [0.        , 0.        , 0.        ],\n",
       "         [0.        , 0.        , 0.        ],\n",
       "         [0.        , 0.        , 0.        ]],\n",
       "\n",
       "        [[0.        , 0.        , 0.        ],\n",
       "         [0.        , 0.        , 0.        ],\n",
       "         [0.        , 0.        , 0.        ],\n",
       "         ...,\n",
       "         [0.        , 0.        , 0.        ],\n",
       "         [0.        , 0.        , 0.        ],\n",
       "         [0.        , 0.        , 0.        ]]],\n",
       "\n",
       "\n",
       "       [[[0.70588235, 0.70588235, 0.70588235],\n",
       "         [0.65490196, 0.65490196, 0.65490196],\n",
       "         [0.56078431, 0.56078431, 0.56078431],\n",
       "         ...,\n",
       "         [0.36862745, 0.36862745, 0.36862745],\n",
       "         [0.34901961, 0.34901961, 0.34901961],\n",
       "         [0.3254902 , 0.3254902 , 0.3254902 ]],\n",
       "\n",
       "        [[0.6       , 0.6       , 0.6       ],\n",
       "         [0.72941176, 0.72941176, 0.72941176],\n",
       "         [0.60784314, 0.60784314, 0.60784314],\n",
       "         ...,\n",
       "         [0.37254902, 0.37254902, 0.37254902],\n",
       "         [0.34901961, 0.34901961, 0.34901961],\n",
       "         [0.32156863, 0.32156863, 0.32156863]],\n",
       "\n",
       "        [[0.42352941, 0.42352941, 0.42352941],\n",
       "         [0.75686275, 0.75686275, 0.75686275],\n",
       "         [0.59607843, 0.59607843, 0.59607843],\n",
       "         ...,\n",
       "         [0.37647059, 0.37647059, 0.37647059],\n",
       "         [0.34509804, 0.34509804, 0.34509804],\n",
       "         [0.32156863, 0.32156863, 0.32156863]],\n",
       "\n",
       "        ...,\n",
       "\n",
       "        [[0.        , 0.        , 0.        ],\n",
       "         [0.        , 0.        , 0.        ],\n",
       "         [0.        , 0.        , 0.        ],\n",
       "         ...,\n",
       "         [0.        , 0.        , 0.        ],\n",
       "         [0.        , 0.        , 0.        ],\n",
       "         [0.        , 0.        , 0.        ]],\n",
       "\n",
       "        [[0.        , 0.        , 0.        ],\n",
       "         [0.        , 0.        , 0.        ],\n",
       "         [0.        , 0.        , 0.        ],\n",
       "         ...,\n",
       "         [0.        , 0.        , 0.        ],\n",
       "         [0.        , 0.        , 0.        ],\n",
       "         [0.        , 0.        , 0.        ]],\n",
       "\n",
       "        [[0.        , 0.        , 0.        ],\n",
       "         [0.        , 0.        , 0.        ],\n",
       "         [0.        , 0.        , 0.        ],\n",
       "         ...,\n",
       "         [0.        , 0.        , 0.        ],\n",
       "         [0.        , 0.        , 0.        ],\n",
       "         [0.        , 0.        , 0.        ]]]])"
      ]
     },
     "execution_count": 8,
     "metadata": {},
     "output_type": "execute_result"
    }
   ],
   "source": [
=======
>>>>>>> 288965d (17/12/2021)
    "print(len(train_data), len(val_data), len(test_data))"
   ]
  },
  {
<<<<<<< HEAD
   "cell_type": "code",
   "execution_count": 9,
=======
   "cell_type": "markdown",
   "metadata": {},
   "source": [
    "# C. Định nghĩa lớp dataset"
   ]
  },
  {
   "cell_type": "code",
   "execution_count": 8,
>>>>>>> 288965d (17/12/2021)
   "metadata": {},
   "outputs": [],
   "source": [
    "class ImageDataset(Dataset):\n",
    "    def __init__(self, csv, transform):\n",
    "        self.transform = transform\n",
    "        self.csv = csv\n",
    "        \n",
    "        self.image_name = self.csv[:]['image_name']\n",
    "        self.label = np.array(self.csv[:]['labels'])\n",
    "    \n",
    "    def __len__(self):\n",
    "        return len(self.label)\n",
    "    \n",
    "    def __getitem__(self, index): \n",
    "        images = Image.open(self.csv['path'].iloc[index] + self.image_name.iloc[index]).convert('RGB')\n",
    "        \n",
    "        images = self.transform(images)\n",
    "        targets = self.label[index]\n",
    "        targets = torch.tensor(targets, dtype = torch.long)\n",
    "#         sample = {'image': image, 'labels': targets}\n",
    "        \n",
    "        return images, targets\n",
    "        "
   ]
  },
  {
<<<<<<< HEAD
   "cell_type": "code",
   "execution_count": 10,
=======
   "cell_type": "markdown",
   "metadata": {},
   "source": [
    "# D. Biến đổi và đưa dữ liệu vào mô hình huấn luyện theo batch"
   ]
  },
  {
   "cell_type": "code",
   "execution_count": 9,
>>>>>>> 288965d (17/12/2021)
   "metadata": {},
   "outputs": [
    {
     "data": {
      "text/plain": [
<<<<<<< HEAD
       "numpy.ndarray"
      ]
     },
     "execution_count": 10,
=======
       "<__main__.ImageDataset at 0x7fca1a4d12d0>"
      ]
     },
     "execution_count": 9,
>>>>>>> 288965d (17/12/2021)
     "metadata": {},
     "output_type": "execute_result"
    }
   ],
   "source": [
    "transform = transforms.Compose([\n",
    "    transforms.Grayscale(3),\n",
    "    transforms.Resize((224,224)),    \n",
    "    transforms.ToTensor(),\n",
    "    transforms.Normalize(mean, std)\n",
    "])\n",
    "\n",
    "train_dataset = ImageDataset(train_data, transform)\n",
    "val_dataset = ImageDataset(val_data, transform)\n",
    "test_dataset = ImageDataset(test_data, transform)\n",
    "\n",
    "train_dataset"
   ]
  },
  {
   "cell_type": "code",
<<<<<<< HEAD
   "execution_count": 11,
   "metadata": {},
   "outputs": [
    {
     "data": {
      "text/plain": [
       "torch.Tensor"
      ]
     },
     "execution_count": 11,
     "metadata": {},
     "output_type": "execute_result"
    }
   ],
=======
   "execution_count": 10,
   "metadata": {
    "scrolled": true
   },
   "outputs": [],
>>>>>>> 288965d (17/12/2021)
   "source": [
    "train_dataloader = DataLoader(train_dataset, batch_size = BATCH_SIZE, shuffle = True)\n",
    "val_dataloader = DataLoader(val_dataset, batch_size = BATCH_SIZE, shuffle = True)\n",
    "test_dataloader = DataLoader(test_dataset, batch_size = BATCH_SIZE, shuffle = True)"
   ]
  },
  {
<<<<<<< HEAD
   "cell_type": "code",
   "execution_count": 12,
   "metadata": {},
   "outputs": [
    {
     "data": {
      "text/plain": [
       "array([0, 0, 0, ..., 1, 1, 1])"
      ]
     },
     "execution_count": 12,
     "metadata": {},
     "output_type": "execute_result"
    }
   ],
   "source": [
    "label"
   ]
  },
  {
   "cell_type": "code",
   "execution_count": 13,
   "metadata": {},
   "outputs": [],
   "source": [
    "label = torch.from_numpy(label)"
   ]
  },
  {
   "cell_type": "code",
   "execution_count": 14,
   "metadata": {},
   "outputs": [
    {
     "name": "stderr",
     "output_type": "stream",
     "text": [
      "/home/trucloan/anaconda3/envs/me/lib/python3.7/site-packages/ipykernel_launcher.py:1: UserWarning: To copy construct from a tensor, it is recommended to use sourceTensor.clone().detach() or sourceTensor.clone().detach().requires_grad_(True), rather than torch.tensor(sourceTensor).\n",
      "  \"\"\"Entry point for launching an IPython kernel.\n"
     ]
    }
   ],
   "source": [
    "label = torch.tensor(label, dtype = torch.long)"
   ]
  },
  {
   "cell_type": "code",
   "execution_count": 15,
   "metadata": {},
   "outputs": [
    {
     "data": {
      "text/plain": [
       "tensor([0, 0, 0,  ..., 1, 1, 1])"
      ]
     },
     "execution_count": 15,
     "metadata": {},
     "output_type": "execute_result"
    }
   ],
   "source": [
    "label"
   ]
  },
  {
   "cell_type": "code",
   "execution_count": 16,
   "metadata": {},
   "outputs": [],
   "source": [
    "#perform one-hot encoding all the labels\n",
    "label = F.one_hot(label, num_classes)"
   ]
  },
  {
   "cell_type": "code",
   "execution_count": 17,
   "metadata": {},
   "outputs": [
    {
     "data": {
      "text/plain": [
       "torch.Tensor"
      ]
     },
     "execution_count": 17,
     "metadata": {},
     "output_type": "execute_result"
    }
   ],
   "source": [
    "type(label)"
   ]
  },
  {
   "cell_type": "code",
   "execution_count": 18,
   "metadata": {},
   "outputs": [],
   "source": [
    "std = np.array([0.229, 0.224, 0.225])\n",
    "mean = np.array([0.485, 0.456, 0.406])\n",
    "transform = transforms.Compose([\n",
    "    transforms.ToTensor(),\n",
    "    transforms.Normalize(mean, std)\n",
    "])\n",
    "\n",
    "data = datasets.ImageFolder(path_dataset, transform = transform)"
   ]
  },
  {
   "cell_type": "code",
   "execution_count": 19,
   "metadata": {},
   "outputs": [
    {
     "data": {
      "text/plain": [
       "10000"
      ]
     },
     "execution_count": 19,
     "metadata": {},
     "output_type": "execute_result"
    }
   ],
   "source": [
    "len(data)"
   ]
  },
  {
   "cell_type": "markdown",
   "metadata": {},
   "source": [
    "# Train and test split"
=======
   "cell_type": "markdown",
   "metadata": {},
   "source": [
    "# B3. Định nghĩa hàm train model (sử dụng  Early Stopping)"
>>>>>>> 288965d (17/12/2021)
   ]
  },
  {
   "cell_type": "code",
<<<<<<< HEAD
   "execution_count": 20,
   "metadata": {},
   "outputs": [],
   "source": [
    "train_data, test_data, train_label, test_label=train_test_split(dataset, label, test_size=0.2, stratify = label,random_state = 42, shuffle=True)\n",
    "train_data, val_data, train_label, val_label=train_test_split(train_data, train_label, test_size=0.2, random_state = 42, shuffle=True)"
   ]
  },
  {
   "cell_type": "code",
   "execution_count": 21,
   "metadata": {},
   "outputs": [
    {
     "name": "stdout",
     "output_type": "stream",
     "text": [
      "6400 1600 2000\n"
     ]
    }
   ],
   "source": [
    "print(len(train_data), len(val_data), len(test_data))"
   ]
  },
  {
   "cell_type": "code",
   "execution_count": 22,
   "metadata": {},
   "outputs": [
    {
     "data": {
      "text/plain": [
       "tensor([[[[0.0275, 0.0275, 0.0275],\n",
       "          [0.0275, 0.0275, 0.0275],\n",
       "          [0.0275, 0.0275, 0.0275],\n",
       "          ...,\n",
       "          [0.0314, 0.0314, 0.0314],\n",
       "          [0.0314, 0.0314, 0.0314],\n",
       "          [0.0314, 0.0314, 0.0314]],\n",
       "\n",
       "         [[0.0275, 0.0275, 0.0275],\n",
       "          [0.0275, 0.0275, 0.0275],\n",
       "          [0.0275, 0.0275, 0.0275],\n",
       "          ...,\n",
       "          [0.0314, 0.0314, 0.0314],\n",
       "          [0.0314, 0.0314, 0.0314],\n",
       "          [0.0275, 0.0275, 0.0275]],\n",
       "\n",
       "         [[0.0275, 0.0275, 0.0275],\n",
       "          [0.0275, 0.0275, 0.0275],\n",
       "          [0.0275, 0.0275, 0.0275],\n",
       "          ...,\n",
       "          [0.0275, 0.0275, 0.0275],\n",
       "          [0.0275, 0.0275, 0.0275],\n",
       "          [0.0275, 0.0275, 0.0275]],\n",
       "\n",
       "         ...,\n",
       "\n",
       "         [[0.0471, 0.0471, 0.0471],\n",
       "          [0.0510, 0.0510, 0.0510],\n",
       "          [0.0471, 0.0471, 0.0471],\n",
       "          ...,\n",
       "          [0.9922, 0.9922, 0.9922],\n",
       "          [0.0392, 0.0392, 0.0392],\n",
       "          [0.0706, 0.0706, 0.0706]],\n",
       "\n",
       "         [[0.0275, 0.0275, 0.0275],\n",
       "          [0.0471, 0.0471, 0.0471],\n",
       "          [0.0510, 0.0510, 0.0510],\n",
       "          ...,\n",
       "          [0.0235, 0.0235, 0.0235],\n",
       "          [0.0275, 0.0275, 0.0275],\n",
       "          [0.0353, 0.0353, 0.0353]],\n",
       "\n",
       "         [[0.0510, 0.0510, 0.0510],\n",
       "          [0.0510, 0.0510, 0.0510],\n",
       "          [0.0510, 0.0510, 0.0510],\n",
       "          ...,\n",
       "          [0.0314, 0.0314, 0.0314],\n",
       "          [0.0275, 0.0275, 0.0275],\n",
       "          [0.0314, 0.0314, 0.0314]]],\n",
       "\n",
       "\n",
       "        [[[0.1255, 0.1255, 0.1255],\n",
       "          [0.0118, 0.0118, 0.0118],\n",
       "          [0.0039, 0.0039, 0.0039],\n",
       "          ...,\n",
       "          [0.0000, 0.0000, 0.0000],\n",
       "          [0.0118, 0.0118, 0.0118],\n",
       "          [0.1255, 0.1255, 0.1255]],\n",
       "\n",
       "         [[0.1255, 0.1255, 0.1255],\n",
       "          [0.0118, 0.0118, 0.0118],\n",
       "          [0.0000, 0.0000, 0.0000],\n",
       "          ...,\n",
       "          [0.0000, 0.0000, 0.0000],\n",
       "          [0.0118, 0.0118, 0.0118],\n",
       "          [0.1255, 0.1255, 0.1255]],\n",
       "\n",
       "         [[0.1294, 0.1294, 0.1294],\n",
       "          [0.0157, 0.0157, 0.0157],\n",
       "          [0.0118, 0.0118, 0.0118],\n",
       "          ...,\n",
       "          [0.0000, 0.0000, 0.0000],\n",
       "          [0.0118, 0.0118, 0.0118],\n",
       "          [0.1255, 0.1255, 0.1255]],\n",
       "\n",
       "         ...,\n",
       "\n",
       "         [[0.2235, 0.2235, 0.2235],\n",
       "          [0.1373, 0.1373, 0.1373],\n",
       "          [0.1490, 0.1490, 0.1490],\n",
       "          ...,\n",
       "          [0.1294, 0.1294, 0.1294],\n",
       "          [0.1098, 0.1098, 0.1098],\n",
       "          [0.2157, 0.2157, 0.2157]],\n",
       "\n",
       "         [[0.1922, 0.1922, 0.1922],\n",
       "          [0.0941, 0.0941, 0.0941],\n",
       "          [0.1098, 0.1098, 0.1098],\n",
       "          ...,\n",
       "          [0.0941, 0.0941, 0.0941],\n",
       "          [0.0824, 0.0824, 0.0824],\n",
       "          [0.1882, 0.1882, 0.1882]],\n",
       "\n",
       "         [[0.3843, 0.3843, 0.3843],\n",
       "          [0.3020, 0.3020, 0.3020],\n",
       "          [0.3098, 0.3098, 0.3098],\n",
       "          ...,\n",
       "          [0.3098, 0.3098, 0.3098],\n",
       "          [0.3098, 0.3098, 0.3098],\n",
       "          [0.3843, 0.3843, 0.3843]]],\n",
       "\n",
       "\n",
       "        [[[0.9686, 0.9686, 0.9686],\n",
       "          [0.9412, 0.9412, 0.9412],\n",
       "          [0.8510, 0.8510, 0.8510],\n",
       "          ...,\n",
       "          [0.2902, 0.2902, 0.2902],\n",
       "          [0.2902, 0.2902, 0.2902],\n",
       "          [0.2588, 0.2588, 0.2588]],\n",
       "\n",
       "         [[0.8980, 0.8980, 0.8980],\n",
       "          [0.7608, 0.7608, 0.7608],\n",
       "          [0.5490, 0.5490, 0.5490],\n",
       "          ...,\n",
       "          [0.0784, 0.0784, 0.0784],\n",
       "          [0.0784, 0.0784, 0.0784],\n",
       "          [0.0627, 0.0627, 0.0627]],\n",
       "\n",
       "         [[0.7412, 0.7412, 0.7412],\n",
       "          [0.5020, 0.5020, 0.5020],\n",
       "          [0.2667, 0.2667, 0.2667],\n",
       "          ...,\n",
       "          [0.0196, 0.0196, 0.0196],\n",
       "          [0.0196, 0.0196, 0.0196],\n",
       "          [0.0157, 0.0157, 0.0157]],\n",
       "\n",
       "         ...,\n",
       "\n",
       "         [[0.9569, 0.9569, 0.9569],\n",
       "          [0.8667, 0.8667, 0.8667],\n",
       "          [0.7451, 0.7451, 0.7451],\n",
       "          ...,\n",
       "          [0.6000, 0.6000, 0.6000],\n",
       "          [0.4941, 0.4941, 0.4941],\n",
       "          [0.3922, 0.3922, 0.3922]],\n",
       "\n",
       "         [[0.9686, 0.9686, 0.9686],\n",
       "          [0.8863, 0.8863, 0.8863],\n",
       "          [0.7804, 0.7804, 0.7804],\n",
       "          ...,\n",
       "          [0.5765, 0.5765, 0.5765],\n",
       "          [0.5569, 0.5569, 0.5569],\n",
       "          [0.4667, 0.4667, 0.4667]],\n",
       "\n",
       "         [[0.9765, 0.9765, 0.9765],\n",
       "          [0.9137, 0.9137, 0.9137],\n",
       "          [0.8235, 0.8235, 0.8235],\n",
       "          ...,\n",
       "          [0.5882, 0.5882, 0.5882],\n",
       "          [0.5843, 0.5843, 0.5843],\n",
       "          [0.5451, 0.5451, 0.5451]]],\n",
       "\n",
       "\n",
       "        ...,\n",
       "\n",
       "\n",
       "        [[[0.0275, 0.0275, 0.0275],\n",
       "          [0.0353, 0.0353, 0.0353],\n",
       "          [0.0353, 0.0353, 0.0353],\n",
       "          ...,\n",
       "          [0.0196, 0.0196, 0.0196],\n",
       "          [0.0000, 0.0000, 0.0000],\n",
       "          [0.0000, 0.0000, 0.0000]],\n",
       "\n",
       "         [[0.0275, 0.0275, 0.0275],\n",
       "          [0.0353, 0.0353, 0.0353],\n",
       "          [0.0353, 0.0353, 0.0353],\n",
       "          ...,\n",
       "          [0.0196, 0.0196, 0.0196],\n",
       "          [0.0000, 0.0000, 0.0000],\n",
       "          [0.0000, 0.0000, 0.0000]],\n",
       "\n",
       "         [[0.0275, 0.0275, 0.0275],\n",
       "          [0.0353, 0.0353, 0.0353],\n",
       "          [0.0353, 0.0353, 0.0353],\n",
       "          ...,\n",
       "          [0.0196, 0.0196, 0.0196],\n",
       "          [0.0000, 0.0000, 0.0000],\n",
       "          [0.0000, 0.0000, 0.0000]],\n",
       "\n",
       "         ...,\n",
       "\n",
       "         [[0.0000, 0.0000, 0.0000],\n",
       "          [0.0000, 0.0000, 0.0000],\n",
       "          [0.0039, 0.0039, 0.0039],\n",
       "          ...,\n",
       "          [0.0314, 0.0314, 0.0314],\n",
       "          [0.0314, 0.0314, 0.0314],\n",
       "          [0.0275, 0.0275, 0.0275]],\n",
       "\n",
       "         [[0.0000, 0.0000, 0.0000],\n",
       "          [0.0000, 0.0000, 0.0000],\n",
       "          [0.0039, 0.0039, 0.0039],\n",
       "          ...,\n",
       "          [0.0078, 0.0078, 0.0078],\n",
       "          [0.0078, 0.0078, 0.0078],\n",
       "          [0.0078, 0.0078, 0.0078]],\n",
       "\n",
       "         [[0.0000, 0.0000, 0.0000],\n",
       "          [0.0000, 0.0000, 0.0000],\n",
       "          [0.0039, 0.0039, 0.0039],\n",
       "          ...,\n",
       "          [0.0000, 0.0000, 0.0000],\n",
       "          [0.0000, 0.0000, 0.0000],\n",
       "          [0.0000, 0.0000, 0.0000]]],\n",
       "\n",
       "\n",
       "        [[[0.4980, 0.4980, 0.4980],\n",
       "          [0.5333, 0.5333, 0.5333],\n",
       "          [0.5686, 0.5686, 0.5686],\n",
       "          ...,\n",
       "          [0.2667, 0.2667, 0.2667],\n",
       "          [0.2549, 0.2549, 0.2549],\n",
       "          [0.2431, 0.2431, 0.2431]],\n",
       "\n",
       "         [[0.5608, 0.5608, 0.5608],\n",
       "          [0.5255, 0.5255, 0.5255],\n",
       "          [0.5569, 0.5569, 0.5569],\n",
       "          ...,\n",
       "          [0.2941, 0.2941, 0.2941],\n",
       "          [0.2745, 0.2745, 0.2745],\n",
       "          [0.2667, 0.2667, 0.2667]],\n",
       "\n",
       "         [[0.5882, 0.5882, 0.5882],\n",
       "          [0.5137, 0.5137, 0.5137],\n",
       "          [0.5490, 0.5490, 0.5490],\n",
       "          ...,\n",
       "          [0.2824, 0.2824, 0.2824],\n",
       "          [0.2902, 0.2902, 0.2902],\n",
       "          [0.2863, 0.2863, 0.2863]],\n",
       "\n",
       "         ...,\n",
       "\n",
       "         [[0.7529, 0.7529, 0.7529],\n",
       "          [0.7647, 0.7647, 0.7647],\n",
       "          [0.7804, 0.7804, 0.7804],\n",
       "          ...,\n",
       "          [0.3725, 0.3725, 0.3725],\n",
       "          [0.3529, 0.3529, 0.3529],\n",
       "          [0.3333, 0.3333, 0.3333]],\n",
       "\n",
       "         [[0.7725, 0.7725, 0.7725],\n",
       "          [0.7843, 0.7843, 0.7843],\n",
       "          [0.7961, 0.7961, 0.7961],\n",
       "          ...,\n",
       "          [0.3843, 0.3843, 0.3843],\n",
       "          [0.3451, 0.3451, 0.3451],\n",
       "          [0.3294, 0.3294, 0.3294]],\n",
       "\n",
       "         [[0.7765, 0.7765, 0.7765],\n",
       "          [0.7961, 0.7961, 0.7961],\n",
       "          [0.7882, 0.7882, 0.7882],\n",
       "          ...,\n",
       "          [0.3569, 0.3569, 0.3569],\n",
       "          [0.3451, 0.3451, 0.3451],\n",
       "          [0.3294, 0.3294, 0.3294]]],\n",
       "\n",
       "\n",
       "        [[[0.4863, 0.4863, 0.4863],\n",
       "          [0.2392, 0.2392, 0.2392],\n",
       "          [0.0941, 0.0941, 0.0941],\n",
       "          ...,\n",
       "          [0.1647, 0.1647, 0.1647],\n",
       "          [0.2078, 0.2078, 0.2078],\n",
       "          [0.2275, 0.2275, 0.2275]],\n",
       "\n",
       "         [[0.1922, 0.1922, 0.1922],\n",
       "          [0.0549, 0.0549, 0.0549],\n",
       "          [0.0118, 0.0118, 0.0118],\n",
       "          ...,\n",
       "          [0.0157, 0.0157, 0.0157],\n",
       "          [0.0196, 0.0196, 0.0196],\n",
       "          [0.0275, 0.0275, 0.0275]],\n",
       "\n",
       "         [[0.0431, 0.0431, 0.0431],\n",
       "          [0.0039, 0.0039, 0.0039],\n",
       "          [0.0000, 0.0000, 0.0000],\n",
       "          ...,\n",
       "          [0.0000, 0.0000, 0.0000],\n",
       "          [0.0000, 0.0000, 0.0000],\n",
       "          [0.0000, 0.0000, 0.0000]],\n",
       "\n",
       "         ...,\n",
       "\n",
       "         [[0.5373, 0.5373, 0.5373],\n",
       "          [0.4706, 0.4706, 0.4706],\n",
       "          [0.4392, 0.4392, 0.4392],\n",
       "          ...,\n",
       "          [0.2706, 0.2706, 0.2706],\n",
       "          [0.2745, 0.2745, 0.2745],\n",
       "          [0.2627, 0.2627, 0.2627]],\n",
       "\n",
       "         [[0.5725, 0.5725, 0.5725],\n",
       "          [0.5098, 0.5098, 0.5098],\n",
       "          [0.4784, 0.4784, 0.4784],\n",
       "          ...,\n",
       "          [0.3176, 0.3176, 0.3176],\n",
       "          [0.3216, 0.3216, 0.3216],\n",
       "          [0.3020, 0.3020, 0.3020]],\n",
       "\n",
       "         [[0.6118, 0.6118, 0.6118],\n",
       "          [0.5529, 0.5529, 0.5529],\n",
       "          [0.5333, 0.5333, 0.5333],\n",
       "          ...,\n",
       "          [0.3647, 0.3647, 0.3647],\n",
       "          [0.3647, 0.3647, 0.3647],\n",
       "          [0.3529, 0.3529, 0.3529]]]], dtype=torch.float64)"
      ]
     },
     "execution_count": 22,
     "metadata": {},
     "output_type": "execute_result"
    }
   ],
   "source": [
    "train_data"
   ]
  },
  {
   "cell_type": "markdown",
   "metadata": {},
   "source": [
    "# Load dataset to model"
   ]
  },
  {
   "cell_type": "code",
   "execution_count": 23,
   "metadata": {},
   "outputs": [],
   "source": [
    "train_loader = torch.utils.data.DataLoader(dataset, batch_size=BATCH_SIZE,\n",
    "    sampler= train_data, num_workers= 0)\n",
    "\n",
    "val_loader = torch.utils.data.DataLoader(dataset, batch_size=BATCH_SIZE,\n",
    "    sampler= val_data, num_workers= 0)\n",
    "\n",
    "test_loader = torch.utils.data.DataLoader(dataset, batch_size=BATCH_SIZE,\n",
    "    sampler= test_data, num_workers= 0)"
   ]
  },
  {
   "cell_type": "code",
   "execution_count": 24,
   "metadata": {},
   "outputs": [
    {
     "data": {
      "text/plain": [
       "<torch.utils.data.dataloader.DataLoader at 0x7f7788a0a190>"
      ]
     },
     "execution_count": 24,
     "metadata": {},
     "output_type": "execute_result"
    }
   ],
   "source": [
    "train_loader"
   ]
  },
  {
   "cell_type": "markdown",
   "metadata": {},
   "source": [
    "# Build the models"
   ]
  },
  {
   "cell_type": "markdown",
   "metadata": {},
   "source": [
    "# Using Transfer Learning"
   ]
  },
  {
   "cell_type": "code",
   "execution_count": 25,
   "metadata": {},
   "outputs": [],
   "source": [
    "# loading the pretrained model\n",
    "model = models.vgg16(pretrained = True)\n",
    "# Flag for feature extracting. When False, we finetune the whole model,\n",
    "#   when True we only update the reshaped layer params\n",
    "feature_extract = True"
   ]
  },
  {
   "cell_type": "code",
   "execution_count": 26,
   "metadata": {
    "scrolled": true
   },
   "outputs": [
    {
     "name": "stdout",
     "output_type": "stream",
     "text": [
      "VGG(\n",
      "  (features): Sequential(\n",
      "    (0): Conv2d(3, 64, kernel_size=(3, 3), stride=(1, 1), padding=(1, 1))\n",
      "    (1): ReLU(inplace=True)\n",
      "    (2): Conv2d(64, 64, kernel_size=(3, 3), stride=(1, 1), padding=(1, 1))\n",
      "    (3): ReLU(inplace=True)\n",
      "    (4): MaxPool2d(kernel_size=2, stride=2, padding=0, dilation=1, ceil_mode=False)\n",
      "    (5): Conv2d(64, 128, kernel_size=(3, 3), stride=(1, 1), padding=(1, 1))\n",
      "    (6): ReLU(inplace=True)\n",
      "    (7): Conv2d(128, 128, kernel_size=(3, 3), stride=(1, 1), padding=(1, 1))\n",
      "    (8): ReLU(inplace=True)\n",
      "    (9): MaxPool2d(kernel_size=2, stride=2, padding=0, dilation=1, ceil_mode=False)\n",
      "    (10): Conv2d(128, 256, kernel_size=(3, 3), stride=(1, 1), padding=(1, 1))\n",
      "    (11): ReLU(inplace=True)\n",
      "    (12): Conv2d(256, 256, kernel_size=(3, 3), stride=(1, 1), padding=(1, 1))\n",
      "    (13): ReLU(inplace=True)\n",
      "    (14): Conv2d(256, 256, kernel_size=(3, 3), stride=(1, 1), padding=(1, 1))\n",
      "    (15): ReLU(inplace=True)\n",
      "    (16): MaxPool2d(kernel_size=2, stride=2, padding=0, dilation=1, ceil_mode=False)\n",
      "    (17): Conv2d(256, 512, kernel_size=(3, 3), stride=(1, 1), padding=(1, 1))\n",
      "    (18): ReLU(inplace=True)\n",
      "    (19): Conv2d(512, 512, kernel_size=(3, 3), stride=(1, 1), padding=(1, 1))\n",
      "    (20): ReLU(inplace=True)\n",
      "    (21): Conv2d(512, 512, kernel_size=(3, 3), stride=(1, 1), padding=(1, 1))\n",
      "    (22): ReLU(inplace=True)\n",
      "    (23): MaxPool2d(kernel_size=2, stride=2, padding=0, dilation=1, ceil_mode=False)\n",
      "    (24): Conv2d(512, 512, kernel_size=(3, 3), stride=(1, 1), padding=(1, 1))\n",
      "    (25): ReLU(inplace=True)\n",
      "    (26): Conv2d(512, 512, kernel_size=(3, 3), stride=(1, 1), padding=(1, 1))\n",
      "    (27): ReLU(inplace=True)\n",
      "    (28): Conv2d(512, 512, kernel_size=(3, 3), stride=(1, 1), padding=(1, 1))\n",
      "    (29): ReLU(inplace=True)\n",
      "    (30): MaxPool2d(kernel_size=2, stride=2, padding=0, dilation=1, ceil_mode=False)\n",
      "  )\n",
      "  (avgpool): AdaptiveAvgPool2d(output_size=(7, 7))\n",
      "  (classifier): Sequential(\n",
      "    (0): Linear(in_features=25088, out_features=4096, bias=True)\n",
      "    (1): ReLU(inplace=True)\n",
      "    (2): Dropout(p=0.5, inplace=False)\n",
      "    (3): Linear(in_features=4096, out_features=4096, bias=True)\n",
      "    (4): ReLU(inplace=True)\n",
      "    (5): Dropout(p=0.5, inplace=False)\n",
      "    (6): Linear(in_features=4096, out_features=1000, bias=True)\n",
      "  )\n",
      ")\n"
     ]
    }
   ],
   "source": [
    "print(model)"
   ]
  },
  {
   "cell_type": "markdown",
   "metadata": {},
   "source": [
    "# Remove the pre-trained network's final layers"
   ]
  },
  {
   "cell_type": "code",
   "execution_count": 27,
   "metadata": {},
   "outputs": [],
   "source": [
    "model.avgpool = nn.AdaptiveAvgPool2d(output_size=(4, 4))\n",
    "numFeatures = model.classifier[0].in_features\n",
    "# loop over the modules of the model and set the parameters of\n",
    "# batch normalization modules as not trainable\n",
    "for module, param in zip(model.modules(), model.parameters()):\n",
    "    #kiểm tra xem môt đối tượng (tham số thứ nhất) là một instance hay là một lớp con của tham số thứ hai.\n",
    "    if isinstance(module, nn.BatchNorm2d): \n",
    "        param.requires_grad = False\n",
    "# define the network head and attach it to the model\n",
    "headModel = nn.Sequential(\n",
    "    nn.Linear(numFeatures, 128),\n",
    "    nn.ReLU(),\n",
    "    nn.Linear(128, 64),\n",
    "    nn.ReLU(),\n",
    "    nn.Dropout(0.5),\n",
    "    nn.Linear(64, num_classes)\n",
    ")\n",
    "model.classifier = headModel \n",
    "# append a new classification top to our feature extractor and pop it\n",
    "# on to the current device\n",
    "model = model.to(device)\n"
   ]
  },
  {
   "cell_type": "code",
   "execution_count": 28,
   "metadata": {},
   "outputs": [
    {
     "data": {
      "text/plain": [
       "VGG(\n",
       "  (features): Sequential(\n",
       "    (0): Conv2d(3, 64, kernel_size=(3, 3), stride=(1, 1), padding=(1, 1))\n",
       "    (1): ReLU(inplace=True)\n",
       "    (2): Conv2d(64, 64, kernel_size=(3, 3), stride=(1, 1), padding=(1, 1))\n",
       "    (3): ReLU(inplace=True)\n",
       "    (4): MaxPool2d(kernel_size=2, stride=2, padding=0, dilation=1, ceil_mode=False)\n",
       "    (5): Conv2d(64, 128, kernel_size=(3, 3), stride=(1, 1), padding=(1, 1))\n",
       "    (6): ReLU(inplace=True)\n",
       "    (7): Conv2d(128, 128, kernel_size=(3, 3), stride=(1, 1), padding=(1, 1))\n",
       "    (8): ReLU(inplace=True)\n",
       "    (9): MaxPool2d(kernel_size=2, stride=2, padding=0, dilation=1, ceil_mode=False)\n",
       "    (10): Conv2d(128, 256, kernel_size=(3, 3), stride=(1, 1), padding=(1, 1))\n",
       "    (11): ReLU(inplace=True)\n",
       "    (12): Conv2d(256, 256, kernel_size=(3, 3), stride=(1, 1), padding=(1, 1))\n",
       "    (13): ReLU(inplace=True)\n",
       "    (14): Conv2d(256, 256, kernel_size=(3, 3), stride=(1, 1), padding=(1, 1))\n",
       "    (15): ReLU(inplace=True)\n",
       "    (16): MaxPool2d(kernel_size=2, stride=2, padding=0, dilation=1, ceil_mode=False)\n",
       "    (17): Conv2d(256, 512, kernel_size=(3, 3), stride=(1, 1), padding=(1, 1))\n",
       "    (18): ReLU(inplace=True)\n",
       "    (19): Conv2d(512, 512, kernel_size=(3, 3), stride=(1, 1), padding=(1, 1))\n",
       "    (20): ReLU(inplace=True)\n",
       "    (21): Conv2d(512, 512, kernel_size=(3, 3), stride=(1, 1), padding=(1, 1))\n",
       "    (22): ReLU(inplace=True)\n",
       "    (23): MaxPool2d(kernel_size=2, stride=2, padding=0, dilation=1, ceil_mode=False)\n",
       "    (24): Conv2d(512, 512, kernel_size=(3, 3), stride=(1, 1), padding=(1, 1))\n",
       "    (25): ReLU(inplace=True)\n",
       "    (26): Conv2d(512, 512, kernel_size=(3, 3), stride=(1, 1), padding=(1, 1))\n",
       "    (27): ReLU(inplace=True)\n",
       "    (28): Conv2d(512, 512, kernel_size=(3, 3), stride=(1, 1), padding=(1, 1))\n",
       "    (29): ReLU(inplace=True)\n",
       "    (30): MaxPool2d(kernel_size=2, stride=2, padding=0, dilation=1, ceil_mode=False)\n",
       "  )\n",
       "  (avgpool): AdaptiveAvgPool2d(output_size=(4, 4))\n",
       "  (classifier): Sequential(\n",
       "    (0): Linear(in_features=25088, out_features=128, bias=True)\n",
       "    (1): ReLU()\n",
       "    (2): Linear(in_features=128, out_features=64, bias=True)\n",
       "    (3): ReLU()\n",
       "    (4): Dropout(p=0.5, inplace=False)\n",
       "    (5): Linear(in_features=64, out_features=2, bias=True)\n",
       "  )\n",
       ")"
      ]
     },
     "execution_count": 28,
     "metadata": {},
     "output_type": "execute_result"
    }
   ],
   "source": [
    "model"
   ]
  },
  {
   "cell_type": "markdown",
   "metadata": {},
   "source": [
    "# Define  Train the Model using Early Stopping"
   ]
  },
  {
   "cell_type": "code",
   "execution_count": 29,
=======
   "execution_count": 11,
>>>>>>> 288965d (17/12/2021)
   "metadata": {},
   "outputs": [],
   "source": [
    "def training_loop(model, optimizer, loss_list, acc_list):\n",
    "    model.to(device)\n",
    "    #List to store loss to visualize\n",
    "    lossli = loss_list\n",
    "    accli = acc_list\n",
    "    \n",
    "    y_true = []\n",
    "    y_pred = []\n",
    "    \n",
    "    valid_loss_min = np.Inf # track change in validation loss\n",
    "    count = 0\n",
    "    patience = 8 # nếu val_loss tăng 15 lần thì ngừng\n",
    "    for epoch in range(num_epochs):\n",
    "        \n",
    "        # keep track of training and validation loss\n",
    "        train_loss = 0.0\n",
    "        valid_loss = 0.0\n",
    "        \n",
    "        train_acc = 0.0\n",
    "        valid_acc = 0.0\n",
    "        \n",
    "        ###################\n",
    "        # train the model #\n",
    "        ###################\n",
    "        \n",
    "        model.train()\n",
<<<<<<< HEAD
    "        for data, label in tqdm(train_loader):\n",
=======
    "        for data, label in tqdm(train_dataloader):\n",
>>>>>>> 288965d (17/12/2021)
    "            data = data.to(device)\n",
    "            label = label.to(device)\n",
    "            optimizer.zero_grad()\n",
    "            output = model(data)\n",
    "            \n",
<<<<<<< HEAD
    "            loss = criterion(output, target)\n",
=======
    "            loss = criterion(output, label)\n",
>>>>>>> 288965d (17/12/2021)
    "            loss.backward()\n",
    "            optimizer.step()\n",
    "        \n",
    "            \n",
    "            train_loss += loss.item()*data.size(0)\n",
    "            \n",
    "            _, pred = torch.max(output, 1)              \n",
    "            \n",
<<<<<<< HEAD
    "            train_acc += pred.eq(target).sum().item()\n",
=======
    "            train_acc += pred.eq(label).sum().item()\n",
>>>>>>> 288965d (17/12/2021)
    "            \n",
    "#         scheduler.step() ###########\n",
    "            \n",
    "        ######################\n",
    "        # validate the model #\n",
    "        ######################\n",
    "        \n",
    "        model.eval()\n",
    "        with torch.no_grad():\n",
<<<<<<< HEAD
    "            for data, label in tqdm(val_loader):\n",
    "                data = data.to(device)\n",
    "                label = label.to(device)\n",
    "                output = model(data)\n",
    "                loss = criterion(output, target)\n",
=======
    "            for data, label in tqdm(val_dataloader):\n",
    "                data = data.to(device)\n",
    "                label = label.to(device)\n",
    "                output = model(data)\n",
    "                loss = criterion(output, label)\n",
>>>>>>> 288965d (17/12/2021)
    "                valid_loss += loss.item()*data.size(0)\n",
    "                \n",
    "                # Calculate accuracy\n",
    "                _, pred = torch.max(output, 1)\n",
    "#                 y_true += target.tolist()\n",
    "#                 y_pred += pred.tolist()  \n",
    "                \n",
<<<<<<< HEAD
    "                valid_acc +=  pred.eq(target).sum().item()\n",
    "       \n",
    "        # calculate average losses\n",
    "        train_loss = train_loss/len(train_loader.dataset)\n",
    "        valid_loss = valid_loss/len(val_loader.dataset)\n",
    "        lossli.append({'epoch':epoch,'train_loss': train_loss,'valid_loss':valid_loss})\n",
    "        \n",
    "        train_acc = train_acc*100/len(train_loader.dataset)\n",
    "        valid_acc = valid_acc*100/len(val_loader.dataset)\n",
=======
    "                valid_acc +=  pred.eq(label).sum().item()\n",
    "       \n",
    "        # calculate average losses\n",
    "        train_loss = train_loss/len(train_dataloader.dataset)\n",
    "        valid_loss = valid_loss/len(val_dataloader.dataset)\n",
    "        lossli.append({'epoch':epoch,'train_loss': train_loss,'valid_loss':valid_loss})\n",
    "        \n",
    "        train_acc = train_acc*100/len(train_dataloader.dataset)\n",
    "        valid_acc = valid_acc*100/len(val_dataloader.dataset)\n",
>>>>>>> 288965d (17/12/2021)
    "        accli.append({'epoch':epoch,'train_acc': train_acc,'valid_acc':valid_acc})\n",
    "        \n",
    "        ####################\n",
    "        # Early stopping #\n",
    "        ##################\n",
    "        \n",
    "        # print training/validation statistics\n",
<<<<<<< HEAD
    "        print('Epoch: {} \\tTraining Loss: {:.6f} \\tValidation Loss: {:.6f}'.format(\n",
    "            epoch, train_loss, valid_loss))\n",
=======
    "        print('Epoch: {} \\tTraining Loss: {:.6f} \\tValidation Loss: {:.6f} \\n \\tTraining Acc: {:.6f} \\tValidation Acc: {:.6f}'.format(\n",
    "            epoch, train_loss, valid_loss, train_acc, valid_acc))\n",
>>>>>>> 288965d (17/12/2021)
    "        # save model if validation loss has decreased\n",
    "       \n",
    "        torch.save({\n",
    "            'epoch': epoch,\n",
    "            'model_state_dict': model.state_dict(),\n",
    "            'optimizer_state_dict': optimizer.state_dict(),\n",
    "            'train_acc': accli,\n",
    "            'loss_list': lossli,\n",
    "            'loss': loss\n",
    "            }, CHECKPOINT_PATH)\n",
    "        \n",
    "        if valid_loss <= valid_loss_min:\n",
    "            print('Validation loss decreased ({:.6f} --> {:.6f}). Saving model ...'.format(\n",
    "                valid_loss_min,\n",
    "                valid_loss))\n",
    "            \n",
    "            count = 0\n",
    "            print('count = ',count)\n",
<<<<<<< HEAD
    "            torch.save(model, './VGG16_model.pt') #save model \n",
=======
    "            torch.save(model, '../model/FTVGG19bn_new_model.pt') #save model \n",
>>>>>>> 288965d (17/12/2021)
    "                                  \n",
    "            valid_loss_min = valid_loss\n",
    "        else:\n",
    "            count += 1\n",
    "            print('count = ',count)\n",
    "            if count >= patience:\n",
    "                print('Early stopping!')\n",
    "   \n",
    "                return lossli, accli    \n",
    "           \n",
    "    return lossli, accli"
   ]
  },
  {
<<<<<<< HEAD
   "cell_type": "code",
   "execution_count": 30,
=======
   "cell_type": "markdown",
   "metadata": {},
   "source": [
    "# B4. Đặt thuộc tính .requires_grad của các tham số trong model"
   ]
  },
  {
   "cell_type": "code",
   "execution_count": 12,
   "metadata": {},
   "outputs": [],
   "source": [
    "def set_parameter_requires_grad (model, feature_extracting):\n",
    "    if feature_extracting:\n",
    "        for param in model.parameters():\n",
    "            param.requires_grad = False"
   ]
  },
  {
   "cell_type": "markdown",
   "metadata": {},
   "source": [
    "# B5. Khởi tạo và reshape model"
   ]
  },
  {
   "cell_type": "code",
   "execution_count": 13,
   "metadata": {},
   "outputs": [
    {
     "name": "stdout",
     "output_type": "stream",
     "text": [
      "VGG(\n",
      "  (features): Sequential(\n",
      "    (0): Conv2d(3, 64, kernel_size=(3, 3), stride=(1, 1), padding=(1, 1))\n",
      "    (1): BatchNorm2d(64, eps=1e-05, momentum=0.1, affine=True, track_running_stats=True)\n",
      "    (2): ReLU(inplace=True)\n",
      "    (3): Conv2d(64, 64, kernel_size=(3, 3), stride=(1, 1), padding=(1, 1))\n",
      "    (4): BatchNorm2d(64, eps=1e-05, momentum=0.1, affine=True, track_running_stats=True)\n",
      "    (5): ReLU(inplace=True)\n",
      "    (6): MaxPool2d(kernel_size=2, stride=2, padding=0, dilation=1, ceil_mode=False)\n",
      "    (7): Conv2d(64, 128, kernel_size=(3, 3), stride=(1, 1), padding=(1, 1))\n",
      "    (8): BatchNorm2d(128, eps=1e-05, momentum=0.1, affine=True, track_running_stats=True)\n",
      "    (9): ReLU(inplace=True)\n",
      "    (10): Conv2d(128, 128, kernel_size=(3, 3), stride=(1, 1), padding=(1, 1))\n",
      "    (11): BatchNorm2d(128, eps=1e-05, momentum=0.1, affine=True, track_running_stats=True)\n",
      "    (12): ReLU(inplace=True)\n",
      "    (13): MaxPool2d(kernel_size=2, stride=2, padding=0, dilation=1, ceil_mode=False)\n",
      "    (14): Conv2d(128, 256, kernel_size=(3, 3), stride=(1, 1), padding=(1, 1))\n",
      "    (15): BatchNorm2d(256, eps=1e-05, momentum=0.1, affine=True, track_running_stats=True)\n",
      "    (16): ReLU(inplace=True)\n",
      "    (17): Conv2d(256, 256, kernel_size=(3, 3), stride=(1, 1), padding=(1, 1))\n",
      "    (18): BatchNorm2d(256, eps=1e-05, momentum=0.1, affine=True, track_running_stats=True)\n",
      "    (19): ReLU(inplace=True)\n",
      "    (20): Conv2d(256, 256, kernel_size=(3, 3), stride=(1, 1), padding=(1, 1))\n",
      "    (21): BatchNorm2d(256, eps=1e-05, momentum=0.1, affine=True, track_running_stats=True)\n",
      "    (22): ReLU(inplace=True)\n",
      "    (23): Conv2d(256, 256, kernel_size=(3, 3), stride=(1, 1), padding=(1, 1))\n",
      "    (24): BatchNorm2d(256, eps=1e-05, momentum=0.1, affine=True, track_running_stats=True)\n",
      "    (25): ReLU(inplace=True)\n",
      "    (26): MaxPool2d(kernel_size=2, stride=2, padding=0, dilation=1, ceil_mode=False)\n",
      "    (27): Conv2d(256, 512, kernel_size=(3, 3), stride=(1, 1), padding=(1, 1))\n",
      "    (28): BatchNorm2d(512, eps=1e-05, momentum=0.1, affine=True, track_running_stats=True)\n",
      "    (29): ReLU(inplace=True)\n",
      "    (30): Conv2d(512, 512, kernel_size=(3, 3), stride=(1, 1), padding=(1, 1))\n",
      "    (31): BatchNorm2d(512, eps=1e-05, momentum=0.1, affine=True, track_running_stats=True)\n",
      "    (32): ReLU(inplace=True)\n",
      "    (33): Conv2d(512, 512, kernel_size=(3, 3), stride=(1, 1), padding=(1, 1))\n",
      "    (34): BatchNorm2d(512, eps=1e-05, momentum=0.1, affine=True, track_running_stats=True)\n",
      "    (35): ReLU(inplace=True)\n",
      "    (36): Conv2d(512, 512, kernel_size=(3, 3), stride=(1, 1), padding=(1, 1))\n",
      "    (37): BatchNorm2d(512, eps=1e-05, momentum=0.1, affine=True, track_running_stats=True)\n",
      "    (38): ReLU(inplace=True)\n",
      "    (39): MaxPool2d(kernel_size=2, stride=2, padding=0, dilation=1, ceil_mode=False)\n",
      "    (40): Conv2d(512, 512, kernel_size=(3, 3), stride=(1, 1), padding=(1, 1))\n",
      "    (41): BatchNorm2d(512, eps=1e-05, momentum=0.1, affine=True, track_running_stats=True)\n",
      "    (42): ReLU(inplace=True)\n",
      "    (43): Conv2d(512, 512, kernel_size=(3, 3), stride=(1, 1), padding=(1, 1))\n",
      "    (44): BatchNorm2d(512, eps=1e-05, momentum=0.1, affine=True, track_running_stats=True)\n",
      "    (45): ReLU(inplace=True)\n",
      "    (46): Conv2d(512, 512, kernel_size=(3, 3), stride=(1, 1), padding=(1, 1))\n",
      "    (47): BatchNorm2d(512, eps=1e-05, momentum=0.1, affine=True, track_running_stats=True)\n",
      "    (48): ReLU(inplace=True)\n",
      "    (49): Conv2d(512, 512, kernel_size=(3, 3), stride=(1, 1), padding=(1, 1))\n",
      "    (50): BatchNorm2d(512, eps=1e-05, momentum=0.1, affine=True, track_running_stats=True)\n",
      "    (51): ReLU(inplace=True)\n",
      "    (52): MaxPool2d(kernel_size=2, stride=2, padding=0, dilation=1, ceil_mode=False)\n",
      "  )\n",
      "  (avgpool): AdaptiveAvgPool2d(output_size=(7, 7))\n",
      "  (classifier): Sequential(\n",
      "    (0): Linear(in_features=25088, out_features=4096, bias=True)\n",
      "    (1): ReLU(inplace=True)\n",
      "    (2): Dropout(p=0.5, inplace=False)\n",
      "    (3): Linear(in_features=4096, out_features=4096, bias=True)\n",
      "    (4): ReLU(inplace=True)\n",
      "    (5): Dropout(p=0.5, inplace=False)\n",
      "    (6): Linear(in_features=4096, out_features=2, bias=True)\n",
      "  )\n",
      ")\n"
     ]
    }
   ],
   "source": [
    "def initialize_model(num_classes, feature_extract, use_pretrained = True):\n",
    "    model_ft = models.vgg19_bn(pretrained = use_pretrained)\n",
    "    set_parameter_requires_grad(model_ft, feature_extract)\n",
    "    num_ftrs = model_ft.classifier[6].in_features\n",
    "    model_ft.classifier[6] = nn.Linear(num_ftrs, num_classes)\n",
    "    input_size = 224\n",
    "    \n",
    "    return model_ft, input_size\n",
    "\n",
    "# Initialize the model for this run\n",
    "model_ft, input_size = initialize_model(num_classes, feature_extract, use_pretrained = True)\n",
    "\n",
    "print (model_ft)"
   ]
  },
  {
   "cell_type": "markdown",
   "metadata": {},
   "source": [
    "# B6. Sử dụng hàm tối ưu"
   ]
  },
  {
   "cell_type": "code",
   "execution_count": 14,
>>>>>>> 288965d (17/12/2021)
   "metadata": {},
   "outputs": [
    {
     "name": "stdout",
     "output_type": "stream",
     "text": [
      "Params to learn:\n",
      "\t features.0.weight\n",
      "\t features.0.bias\n",
<<<<<<< HEAD
      "\t features.2.weight\n",
      "\t features.2.bias\n",
      "\t features.5.weight\n",
      "\t features.5.bias\n",
      "\t features.7.weight\n",
      "\t features.7.bias\n",
      "\t features.10.weight\n",
      "\t features.10.bias\n",
      "\t features.12.weight\n",
      "\t features.12.bias\n",
      "\t features.14.weight\n",
      "\t features.14.bias\n",
      "\t features.17.weight\n",
      "\t features.17.bias\n",
      "\t features.19.weight\n",
      "\t features.19.bias\n",
      "\t features.21.weight\n",
      "\t features.21.bias\n",
      "\t features.24.weight\n",
      "\t features.24.bias\n",
      "\t features.26.weight\n",
      "\t features.26.bias\n",
      "\t features.28.weight\n",
      "\t features.28.bias\n",
      "\t classifier.0.weight\n",
      "\t classifier.0.bias\n",
      "\t classifier.2.weight\n",
      "\t classifier.2.bias\n",
      "\t classifier.5.weight\n",
      "\t classifier.5.bias\n"
=======
      "\t features.1.weight\n",
      "\t features.1.bias\n",
      "\t features.3.weight\n",
      "\t features.3.bias\n",
      "\t features.4.weight\n",
      "\t features.4.bias\n",
      "\t features.7.weight\n",
      "\t features.7.bias\n",
      "\t features.8.weight\n",
      "\t features.8.bias\n",
      "\t features.10.weight\n",
      "\t features.10.bias\n",
      "\t features.11.weight\n",
      "\t features.11.bias\n",
      "\t features.14.weight\n",
      "\t features.14.bias\n",
      "\t features.15.weight\n",
      "\t features.15.bias\n",
      "\t features.17.weight\n",
      "\t features.17.bias\n",
      "\t features.18.weight\n",
      "\t features.18.bias\n",
      "\t features.20.weight\n",
      "\t features.20.bias\n",
      "\t features.21.weight\n",
      "\t features.21.bias\n",
      "\t features.23.weight\n",
      "\t features.23.bias\n",
      "\t features.24.weight\n",
      "\t features.24.bias\n",
      "\t features.27.weight\n",
      "\t features.27.bias\n",
      "\t features.28.weight\n",
      "\t features.28.bias\n",
      "\t features.30.weight\n",
      "\t features.30.bias\n",
      "\t features.31.weight\n",
      "\t features.31.bias\n",
      "\t features.33.weight\n",
      "\t features.33.bias\n",
      "\t features.34.weight\n",
      "\t features.34.bias\n",
      "\t features.36.weight\n",
      "\t features.36.bias\n",
      "\t features.37.weight\n",
      "\t features.37.bias\n",
      "\t features.40.weight\n",
      "\t features.40.bias\n",
      "\t features.41.weight\n",
      "\t features.41.bias\n",
      "\t features.43.weight\n",
      "\t features.43.bias\n",
      "\t features.44.weight\n",
      "\t features.44.bias\n",
      "\t features.46.weight\n",
      "\t features.46.bias\n",
      "\t features.47.weight\n",
      "\t features.47.bias\n",
      "\t features.49.weight\n",
      "\t features.49.bias\n",
      "\t features.50.weight\n",
      "\t features.50.bias\n",
      "\t classifier.0.weight\n",
      "\t classifier.0.bias\n",
      "\t classifier.3.weight\n",
      "\t classifier.3.bias\n",
      "\t classifier.6.weight\n",
      "\t classifier.6.bias\n"
>>>>>>> 288965d (17/12/2021)
     ]
    }
   ],
   "source": [
<<<<<<< HEAD
    "#Create the optimizer\n",
    "params_to_update = model.parameters()\n",
    "print('Params to learn:')\n",
    "if feature_extract:\n",
    "    params_to_update = []\n",
    "    for name, param in model.named_parameters():\n",
    "        if param.requires_grad == True:\n",
    "            params_to_update.append(param)\n",
    "            print('\\t',name)\n",
    "else:\n",
    "    for name, param in model.named_parameters():\n",
    "        if param.requires_grad == True:\n",
    "            print('\\t',name)\n",
    "            \n",
    "optimizer = Adam(params_to_update ,lr = 0.001, weight_decay=1e-5)\n",
    "# scheduler = lr_scheduler.MultiStepLR(optimizer_ft, milestones = [20, 35], gamma=0.1, last_epoch=-1, verbose=False)"
=======
    "# Send the model to GPU\n",
    "model_ft = model_ft.to(device)\n",
    "\n",
    "# Gather the parameters to be optimized/updated in this run. If we are\n",
    "#  finetuning we will be updating all parameters. However, if we are\n",
    "#  doing feature extract method, we will only update the parameters\n",
    "#  that we have just initialized, i.e. the parameters with requires_grad\n",
    "#  is True.\n",
    "params_to_update = model_ft.parameters()\n",
    "print(\"Params to learn:\")\n",
    "if feature_extract:\n",
    "    params_to_update = []\n",
    "    for name,param in model_ft.named_parameters():\n",
    "        if param.requires_grad == True:\n",
    "            params_to_update.append(param)\n",
    "            print(\"\\t\",name)\n",
    "else:\n",
    "    for name,param in model_ft.named_parameters():\n",
    "        if param.requires_grad == True:\n",
    "            print(\"\\t\",name)\n",
    "\n",
    "# Observe that all parameters are being optimized\n",
    "optimizer = Adam(params_to_update ,lr = 0.001, weight_decay=1e-5)\n"
>>>>>>> 288965d (17/12/2021)
   ]
  },
  {
   "cell_type": "markdown",
   "metadata": {},
   "source": [
<<<<<<< HEAD
    "# Train the Model"
=======
    "# B7. Chạy các bước huấn luyện và kiểm định mô hình"
>>>>>>> 288965d (17/12/2021)
   ]
  },
  {
   "cell_type": "code",
<<<<<<< HEAD
   "execution_count": 31,
=======
   "execution_count": 15,
>>>>>>> 288965d (17/12/2021)
   "metadata": {},
   "outputs": [
    {
     "name": "stderr",
     "output_type": "stream",
     "text": [
<<<<<<< HEAD
      "\r",
      "  0%|          | 0/100 [00:00<?, ?it/s]"
     ]
    },
    {
     "ename": "IndexError",
     "evalue": "tensors used as indices must be long, byte or bool tensors",
     "output_type": "error",
     "traceback": [
      "\u001b[0;31m---------------------------------------------------------------------------\u001b[0m",
      "\u001b[0;31mIndexError\u001b[0m                                Traceback (most recent call last)",
      "\u001b[0;32m<ipython-input-31-f93e943560a5>\u001b[0m in \u001b[0;36m<module>\u001b[0;34m\u001b[0m\n\u001b[1;32m      7\u001b[0m     \u001b[0moptimizer\u001b[0m \u001b[0;34m=\u001b[0m \u001b[0moptimizer\u001b[0m\u001b[0;34m,\u001b[0m\u001b[0;34m\u001b[0m\u001b[0;34m\u001b[0m\u001b[0m\n\u001b[1;32m      8\u001b[0m     \u001b[0mloss_list\u001b[0m \u001b[0;34m=\u001b[0m \u001b[0mloss_list\u001b[0m\u001b[0;34m,\u001b[0m\u001b[0;34m\u001b[0m\u001b[0;34m\u001b[0m\u001b[0m\n\u001b[0;32m----> 9\u001b[0;31m     \u001b[0macc_list\u001b[0m \u001b[0;34m=\u001b[0m \u001b[0macc_list\u001b[0m\u001b[0;34m\u001b[0m\u001b[0;34m\u001b[0m\u001b[0m\n\u001b[0m\u001b[1;32m     10\u001b[0m )\n\u001b[1;32m     11\u001b[0m \u001b[0mtime_elapsed\u001b[0m \u001b[0;34m=\u001b[0m \u001b[0mtime\u001b[0m\u001b[0;34m.\u001b[0m\u001b[0mtime\u001b[0m\u001b[0;34m(\u001b[0m\u001b[0;34m)\u001b[0m \u001b[0;34m-\u001b[0m \u001b[0msince\u001b[0m\u001b[0;34m\u001b[0m\u001b[0;34m\u001b[0m\u001b[0m\n",
      "\u001b[0;32m<ipython-input-29-059cde48b1bd>\u001b[0m in \u001b[0;36mtraining_loop\u001b[0;34m(model, optimizer, loss_list, acc_list)\u001b[0m\n\u001b[1;32m     25\u001b[0m \u001b[0;34m\u001b[0m\u001b[0m\n\u001b[1;32m     26\u001b[0m         \u001b[0mmodel\u001b[0m\u001b[0;34m.\u001b[0m\u001b[0mtrain\u001b[0m\u001b[0;34m(\u001b[0m\u001b[0;34m)\u001b[0m\u001b[0;34m\u001b[0m\u001b[0;34m\u001b[0m\u001b[0m\n\u001b[0;32m---> 27\u001b[0;31m         \u001b[0;32mfor\u001b[0m \u001b[0mdata\u001b[0m\u001b[0;34m,\u001b[0m \u001b[0mlabel\u001b[0m \u001b[0;32min\u001b[0m \u001b[0mtqdm\u001b[0m\u001b[0;34m(\u001b[0m\u001b[0mtrain_loader\u001b[0m\u001b[0;34m)\u001b[0m\u001b[0;34m:\u001b[0m\u001b[0;34m\u001b[0m\u001b[0;34m\u001b[0m\u001b[0m\n\u001b[0m\u001b[1;32m     28\u001b[0m             \u001b[0mdata\u001b[0m \u001b[0;34m=\u001b[0m \u001b[0mdata\u001b[0m\u001b[0;34m.\u001b[0m\u001b[0mto\u001b[0m\u001b[0;34m(\u001b[0m\u001b[0mdevice\u001b[0m\u001b[0;34m)\u001b[0m\u001b[0;34m\u001b[0m\u001b[0;34m\u001b[0m\u001b[0m\n\u001b[1;32m     29\u001b[0m             \u001b[0mlabel\u001b[0m \u001b[0;34m=\u001b[0m \u001b[0mlabel\u001b[0m\u001b[0;34m.\u001b[0m\u001b[0mto\u001b[0m\u001b[0;34m(\u001b[0m\u001b[0mdevice\u001b[0m\u001b[0;34m)\u001b[0m\u001b[0;34m\u001b[0m\u001b[0;34m\u001b[0m\u001b[0m\n",
      "\u001b[0;32m~/anaconda3/envs/me/lib/python3.7/site-packages/tqdm/std.py\u001b[0m in \u001b[0;36m__iter__\u001b[0;34m(self)\u001b[0m\n\u001b[1;32m   1105\u001b[0m                 fp_write=getattr(self.fp, 'write', sys.stderr.write))\n\u001b[1;32m   1106\u001b[0m \u001b[0;34m\u001b[0m\u001b[0m\n\u001b[0;32m-> 1107\u001b[0;31m         \u001b[0;32mfor\u001b[0m \u001b[0mobj\u001b[0m \u001b[0;32min\u001b[0m \u001b[0miterable\u001b[0m\u001b[0;34m:\u001b[0m\u001b[0;34m\u001b[0m\u001b[0;34m\u001b[0m\u001b[0m\n\u001b[0m\u001b[1;32m   1108\u001b[0m             \u001b[0;32myield\u001b[0m \u001b[0mobj\u001b[0m\u001b[0;34m\u001b[0m\u001b[0;34m\u001b[0m\u001b[0m\n\u001b[1;32m   1109\u001b[0m             \u001b[0;31m# Update and possibly print the progressbar.\u001b[0m\u001b[0;34m\u001b[0m\u001b[0;34m\u001b[0m\u001b[0;34m\u001b[0m\u001b[0m\n",
      "\u001b[0;32m~/anaconda3/envs/me/lib/python3.7/site-packages/torch/utils/data/dataloader.py\u001b[0m in \u001b[0;36m__next__\u001b[0;34m(self)\u001b[0m\n\u001b[1;32m    519\u001b[0m             \u001b[0;32mif\u001b[0m \u001b[0mself\u001b[0m\u001b[0;34m.\u001b[0m\u001b[0m_sampler_iter\u001b[0m \u001b[0;32mis\u001b[0m \u001b[0;32mNone\u001b[0m\u001b[0;34m:\u001b[0m\u001b[0;34m\u001b[0m\u001b[0;34m\u001b[0m\u001b[0m\n\u001b[1;32m    520\u001b[0m                 \u001b[0mself\u001b[0m\u001b[0;34m.\u001b[0m\u001b[0m_reset\u001b[0m\u001b[0;34m(\u001b[0m\u001b[0;34m)\u001b[0m\u001b[0;34m\u001b[0m\u001b[0;34m\u001b[0m\u001b[0m\n\u001b[0;32m--> 521\u001b[0;31m             \u001b[0mdata\u001b[0m \u001b[0;34m=\u001b[0m \u001b[0mself\u001b[0m\u001b[0;34m.\u001b[0m\u001b[0m_next_data\u001b[0m\u001b[0;34m(\u001b[0m\u001b[0;34m)\u001b[0m\u001b[0;34m\u001b[0m\u001b[0;34m\u001b[0m\u001b[0m\n\u001b[0m\u001b[1;32m    522\u001b[0m             \u001b[0mself\u001b[0m\u001b[0;34m.\u001b[0m\u001b[0m_num_yielded\u001b[0m \u001b[0;34m+=\u001b[0m \u001b[0;36m1\u001b[0m\u001b[0;34m\u001b[0m\u001b[0;34m\u001b[0m\u001b[0m\n\u001b[1;32m    523\u001b[0m             \u001b[0;32mif\u001b[0m \u001b[0mself\u001b[0m\u001b[0;34m.\u001b[0m\u001b[0m_dataset_kind\u001b[0m \u001b[0;34m==\u001b[0m \u001b[0m_DatasetKind\u001b[0m\u001b[0;34m.\u001b[0m\u001b[0mIterable\u001b[0m \u001b[0;32mand\u001b[0m\u001b[0;31m \u001b[0m\u001b[0;31m\\\u001b[0m\u001b[0;34m\u001b[0m\u001b[0;34m\u001b[0m\u001b[0m\n",
      "\u001b[0;32m~/anaconda3/envs/me/lib/python3.7/site-packages/torch/utils/data/dataloader.py\u001b[0m in \u001b[0;36m_next_data\u001b[0;34m(self)\u001b[0m\n\u001b[1;32m    559\u001b[0m     \u001b[0;32mdef\u001b[0m \u001b[0m_next_data\u001b[0m\u001b[0;34m(\u001b[0m\u001b[0mself\u001b[0m\u001b[0;34m)\u001b[0m\u001b[0;34m:\u001b[0m\u001b[0;34m\u001b[0m\u001b[0;34m\u001b[0m\u001b[0m\n\u001b[1;32m    560\u001b[0m         \u001b[0mindex\u001b[0m \u001b[0;34m=\u001b[0m \u001b[0mself\u001b[0m\u001b[0;34m.\u001b[0m\u001b[0m_next_index\u001b[0m\u001b[0;34m(\u001b[0m\u001b[0;34m)\u001b[0m  \u001b[0;31m# may raise StopIteration\u001b[0m\u001b[0;34m\u001b[0m\u001b[0;34m\u001b[0m\u001b[0m\n\u001b[0;32m--> 561\u001b[0;31m         \u001b[0mdata\u001b[0m \u001b[0;34m=\u001b[0m \u001b[0mself\u001b[0m\u001b[0;34m.\u001b[0m\u001b[0m_dataset_fetcher\u001b[0m\u001b[0;34m.\u001b[0m\u001b[0mfetch\u001b[0m\u001b[0;34m(\u001b[0m\u001b[0mindex\u001b[0m\u001b[0;34m)\u001b[0m  \u001b[0;31m# may raise StopIteration\u001b[0m\u001b[0;34m\u001b[0m\u001b[0;34m\u001b[0m\u001b[0m\n\u001b[0m\u001b[1;32m    562\u001b[0m         \u001b[0;32mif\u001b[0m \u001b[0mself\u001b[0m\u001b[0;34m.\u001b[0m\u001b[0m_pin_memory\u001b[0m\u001b[0;34m:\u001b[0m\u001b[0;34m\u001b[0m\u001b[0;34m\u001b[0m\u001b[0m\n\u001b[1;32m    563\u001b[0m             \u001b[0mdata\u001b[0m \u001b[0;34m=\u001b[0m \u001b[0m_utils\u001b[0m\u001b[0;34m.\u001b[0m\u001b[0mpin_memory\u001b[0m\u001b[0;34m.\u001b[0m\u001b[0mpin_memory\u001b[0m\u001b[0;34m(\u001b[0m\u001b[0mdata\u001b[0m\u001b[0;34m)\u001b[0m\u001b[0;34m\u001b[0m\u001b[0;34m\u001b[0m\u001b[0m\n",
      "\u001b[0;32m~/anaconda3/envs/me/lib/python3.7/site-packages/torch/utils/data/_utils/fetch.py\u001b[0m in \u001b[0;36mfetch\u001b[0;34m(self, possibly_batched_index)\u001b[0m\n\u001b[1;32m     42\u001b[0m     \u001b[0;32mdef\u001b[0m \u001b[0mfetch\u001b[0m\u001b[0;34m(\u001b[0m\u001b[0mself\u001b[0m\u001b[0;34m,\u001b[0m \u001b[0mpossibly_batched_index\u001b[0m\u001b[0;34m)\u001b[0m\u001b[0;34m:\u001b[0m\u001b[0;34m\u001b[0m\u001b[0;34m\u001b[0m\u001b[0m\n\u001b[1;32m     43\u001b[0m         \u001b[0;32mif\u001b[0m \u001b[0mself\u001b[0m\u001b[0;34m.\u001b[0m\u001b[0mauto_collation\u001b[0m\u001b[0;34m:\u001b[0m\u001b[0;34m\u001b[0m\u001b[0;34m\u001b[0m\u001b[0m\n\u001b[0;32m---> 44\u001b[0;31m             \u001b[0mdata\u001b[0m \u001b[0;34m=\u001b[0m \u001b[0;34m[\u001b[0m\u001b[0mself\u001b[0m\u001b[0;34m.\u001b[0m\u001b[0mdataset\u001b[0m\u001b[0;34m[\u001b[0m\u001b[0midx\u001b[0m\u001b[0;34m]\u001b[0m \u001b[0;32mfor\u001b[0m \u001b[0midx\u001b[0m \u001b[0;32min\u001b[0m \u001b[0mpossibly_batched_index\u001b[0m\u001b[0;34m]\u001b[0m\u001b[0;34m\u001b[0m\u001b[0;34m\u001b[0m\u001b[0m\n\u001b[0m\u001b[1;32m     45\u001b[0m         \u001b[0;32melse\u001b[0m\u001b[0;34m:\u001b[0m\u001b[0;34m\u001b[0m\u001b[0;34m\u001b[0m\u001b[0m\n\u001b[1;32m     46\u001b[0m             \u001b[0mdata\u001b[0m \u001b[0;34m=\u001b[0m \u001b[0mself\u001b[0m\u001b[0;34m.\u001b[0m\u001b[0mdataset\u001b[0m\u001b[0;34m[\u001b[0m\u001b[0mpossibly_batched_index\u001b[0m\u001b[0;34m]\u001b[0m\u001b[0;34m\u001b[0m\u001b[0;34m\u001b[0m\u001b[0m\n",
      "\u001b[0;32m~/anaconda3/envs/me/lib/python3.7/site-packages/torch/utils/data/_utils/fetch.py\u001b[0m in \u001b[0;36m<listcomp>\u001b[0;34m(.0)\u001b[0m\n\u001b[1;32m     42\u001b[0m     \u001b[0;32mdef\u001b[0m \u001b[0mfetch\u001b[0m\u001b[0;34m(\u001b[0m\u001b[0mself\u001b[0m\u001b[0;34m,\u001b[0m \u001b[0mpossibly_batched_index\u001b[0m\u001b[0;34m)\u001b[0m\u001b[0;34m:\u001b[0m\u001b[0;34m\u001b[0m\u001b[0;34m\u001b[0m\u001b[0m\n\u001b[1;32m     43\u001b[0m         \u001b[0;32mif\u001b[0m \u001b[0mself\u001b[0m\u001b[0;34m.\u001b[0m\u001b[0mauto_collation\u001b[0m\u001b[0;34m:\u001b[0m\u001b[0;34m\u001b[0m\u001b[0;34m\u001b[0m\u001b[0m\n\u001b[0;32m---> 44\u001b[0;31m             \u001b[0mdata\u001b[0m \u001b[0;34m=\u001b[0m \u001b[0;34m[\u001b[0m\u001b[0mself\u001b[0m\u001b[0;34m.\u001b[0m\u001b[0mdataset\u001b[0m\u001b[0;34m[\u001b[0m\u001b[0midx\u001b[0m\u001b[0;34m]\u001b[0m \u001b[0;32mfor\u001b[0m \u001b[0midx\u001b[0m \u001b[0;32min\u001b[0m \u001b[0mpossibly_batched_index\u001b[0m\u001b[0;34m]\u001b[0m\u001b[0;34m\u001b[0m\u001b[0;34m\u001b[0m\u001b[0m\n\u001b[0m\u001b[1;32m     45\u001b[0m         \u001b[0;32melse\u001b[0m\u001b[0;34m:\u001b[0m\u001b[0;34m\u001b[0m\u001b[0;34m\u001b[0m\u001b[0m\n\u001b[1;32m     46\u001b[0m             \u001b[0mdata\u001b[0m \u001b[0;34m=\u001b[0m \u001b[0mself\u001b[0m\u001b[0;34m.\u001b[0m\u001b[0mdataset\u001b[0m\u001b[0;34m[\u001b[0m\u001b[0mpossibly_batched_index\u001b[0m\u001b[0;34m]\u001b[0m\u001b[0;34m\u001b[0m\u001b[0;34m\u001b[0m\u001b[0m\n",
      "\u001b[0;31mIndexError\u001b[0m: tensors used as indices must be long, byte or bool tensors"
=======
      "100%|██████████| 200/200 [02:47<00:00,  1.19it/s]\n",
      "100%|██████████| 50/50 [00:33<00:00,  1.47it/s]\n"
     ]
    },
    {
     "name": "stdout",
     "output_type": "stream",
     "text": [
      "Epoch: 0 \tTraining Loss: 0.379742 \tValidation Loss: 0.386786 \n",
      " \tTraining Acc: 86.328125 \tValidation Acc: 88.687500\n",
      "Validation loss decreased (inf --> 0.386786). Saving model ...\n",
      "count =  0\n"
     ]
    },
    {
     "name": "stderr",
     "output_type": "stream",
     "text": [
      "100%|██████████| 200/200 [02:45<00:00,  1.21it/s]\n",
      "100%|██████████| 50/50 [00:33<00:00,  1.48it/s]\n"
     ]
    },
    {
     "name": "stdout",
     "output_type": "stream",
     "text": [
      "Epoch: 1 \tTraining Loss: 0.261553 \tValidation Loss: 0.272138 \n",
      " \tTraining Acc: 90.031250 \tValidation Acc: 92.250000\n",
      "Validation loss decreased (0.386786 --> 0.272138). Saving model ...\n",
      "count =  0\n"
     ]
    },
    {
     "name": "stderr",
     "output_type": "stream",
     "text": [
      "100%|██████████| 200/200 [02:48<00:00,  1.19it/s]\n",
      "100%|██████████| 50/50 [00:35<00:00,  1.42it/s]\n"
     ]
    },
    {
     "name": "stdout",
     "output_type": "stream",
     "text": [
      "Epoch: 2 \tTraining Loss: 0.198302 \tValidation Loss: 0.163326 \n",
      " \tTraining Acc: 93.000000 \tValidation Acc: 94.437500\n",
      "Validation loss decreased (0.272138 --> 0.163326). Saving model ...\n",
      "count =  0\n"
     ]
    },
    {
     "name": "stderr",
     "output_type": "stream",
     "text": [
      "100%|██████████| 200/200 [02:52<00:00,  1.16it/s]\n",
      "100%|██████████| 50/50 [00:35<00:00,  1.42it/s]\n"
     ]
    },
    {
     "name": "stdout",
     "output_type": "stream",
     "text": [
      "Epoch: 3 \tTraining Loss: 0.182793 \tValidation Loss: 0.218447 \n",
      " \tTraining Acc: 93.609375 \tValidation Acc: 93.312500\n"
     ]
    },
    {
     "name": "stderr",
     "output_type": "stream",
     "text": [
      "\r",
      "  0%|          | 0/200 [00:00<?, ?it/s]"
     ]
    },
    {
     "name": "stdout",
     "output_type": "stream",
     "text": [
      "count =  1\n"
     ]
    },
    {
     "name": "stderr",
     "output_type": "stream",
     "text": [
      "100%|██████████| 200/200 [02:52<00:00,  1.16it/s]\n",
      "100%|██████████| 50/50 [00:35<00:00,  1.42it/s]\n"
     ]
    },
    {
     "name": "stdout",
     "output_type": "stream",
     "text": [
      "Epoch: 4 \tTraining Loss: 0.145122 \tValidation Loss: 0.269843 \n",
      " \tTraining Acc: 94.171875 \tValidation Acc: 92.062500\n"
     ]
    },
    {
     "name": "stderr",
     "output_type": "stream",
     "text": [
      "\r",
      "  0%|          | 0/200 [00:00<?, ?it/s]"
     ]
    },
    {
     "name": "stdout",
     "output_type": "stream",
     "text": [
      "count =  2\n"
     ]
    },
    {
     "name": "stderr",
     "output_type": "stream",
     "text": [
      "100%|██████████| 200/200 [02:53<00:00,  1.15it/s]\n",
      "100%|██████████| 50/50 [00:35<00:00,  1.42it/s]\n"
     ]
    },
    {
     "name": "stdout",
     "output_type": "stream",
     "text": [
      "Epoch: 5 \tTraining Loss: 0.134139 \tValidation Loss: 0.223179 \n",
      " \tTraining Acc: 94.703125 \tValidation Acc: 92.375000\n"
     ]
    },
    {
     "name": "stderr",
     "output_type": "stream",
     "text": [
      "\r",
      "  0%|          | 0/200 [00:00<?, ?it/s]"
     ]
    },
    {
     "name": "stdout",
     "output_type": "stream",
     "text": [
      "count =  3\n"
     ]
    },
    {
     "name": "stderr",
     "output_type": "stream",
     "text": [
      "100%|██████████| 200/200 [02:51<00:00,  1.17it/s]\n",
      "100%|██████████| 50/50 [00:34<00:00,  1.43it/s]\n"
     ]
    },
    {
     "name": "stdout",
     "output_type": "stream",
     "text": [
      "Epoch: 6 \tTraining Loss: 0.115543 \tValidation Loss: 0.549712 \n",
      " \tTraining Acc: 95.859375 \tValidation Acc: 90.500000\n"
     ]
    },
    {
     "name": "stderr",
     "output_type": "stream",
     "text": [
      "\r",
      "  0%|          | 0/200 [00:00<?, ?it/s]"
     ]
    },
    {
     "name": "stdout",
     "output_type": "stream",
     "text": [
      "count =  4\n"
     ]
    },
    {
     "name": "stderr",
     "output_type": "stream",
     "text": [
      "100%|██████████| 200/200 [02:51<00:00,  1.16it/s]\n",
      "100%|██████████| 50/50 [00:35<00:00,  1.40it/s]\n"
     ]
    },
    {
     "name": "stdout",
     "output_type": "stream",
     "text": [
      "Epoch: 7 \tTraining Loss: 0.116641 \tValidation Loss: 0.835896 \n",
      " \tTraining Acc: 95.875000 \tValidation Acc: 94.500000\n"
     ]
    },
    {
     "name": "stderr",
     "output_type": "stream",
     "text": [
      "\r",
      "  0%|          | 0/200 [00:00<?, ?it/s]"
     ]
    },
    {
     "name": "stdout",
     "output_type": "stream",
     "text": [
      "count =  5\n"
     ]
    },
    {
     "name": "stderr",
     "output_type": "stream",
     "text": [
      "100%|██████████| 200/200 [02:52<00:00,  1.16it/s]\n",
      "100%|██████████| 50/50 [00:36<00:00,  1.37it/s]\n"
     ]
    },
    {
     "name": "stdout",
     "output_type": "stream",
     "text": [
      "Epoch: 8 \tTraining Loss: 0.181671 \tValidation Loss: 0.358233 \n",
      " \tTraining Acc: 93.468750 \tValidation Acc: 93.062500\n"
     ]
    },
    {
     "name": "stderr",
     "output_type": "stream",
     "text": [
      "\r",
      "  0%|          | 0/200 [00:00<?, ?it/s]"
     ]
    },
    {
     "name": "stdout",
     "output_type": "stream",
     "text": [
      "count =  6\n"
     ]
    },
    {
     "name": "stderr",
     "output_type": "stream",
     "text": [
      "100%|██████████| 200/200 [02:52<00:00,  1.16it/s]\n",
      "100%|██████████| 50/50 [00:36<00:00,  1.39it/s]\n"
     ]
    },
    {
     "name": "stdout",
     "output_type": "stream",
     "text": [
      "Epoch: 9 \tTraining Loss: 0.319557 \tValidation Loss: 0.807410 \n",
      " \tTraining Acc: 92.140625 \tValidation Acc: 91.625000\n"
     ]
    },
    {
     "name": "stderr",
     "output_type": "stream",
     "text": [
      "\r",
      "  0%|          | 0/200 [00:00<?, ?it/s]"
     ]
    },
    {
     "name": "stdout",
     "output_type": "stream",
     "text": [
      "count =  7\n"
     ]
    },
    {
     "name": "stderr",
     "output_type": "stream",
     "text": [
      "100%|██████████| 200/200 [02:52<00:00,  1.16it/s]\n",
      "100%|██████████| 50/50 [00:35<00:00,  1.42it/s]\n"
     ]
    },
    {
     "name": "stdout",
     "output_type": "stream",
     "text": [
      "Epoch: 10 \tTraining Loss: 0.400455 \tValidation Loss: 0.256561 \n",
      " \tTraining Acc: 90.125000 \tValidation Acc: 90.750000\n",
      "count =  8\n",
      "Early stopping!\n",
      "Training complete in 39m 27s\n"
>>>>>>> 288965d (17/12/2021)
     ]
    }
   ],
   "source": [
    "loss_list, acc_list = [],[]\n",
    "\n",
    "since = time.time()\n",
    "\n",
    "loss, acc = training_loop(\n",
<<<<<<< HEAD
    "    model = model,\n",
=======
    "    model = model_ft,\n",
>>>>>>> 288965d (17/12/2021)
    "    optimizer = optimizer,\n",
    "    loss_list = loss_list,\n",
    "    acc_list = acc_list\n",
    ")\n",
    "time_elapsed = time.time() - since\n",
    "print('Training complete in {:.0f}m {:.0f}s'.format(time_elapsed // 60, time_elapsed % 60))"
   ]
  },
  {
<<<<<<< HEAD
   "cell_type": "code",
   "execution_count": null,
   "metadata": {},
   "outputs": [],
   "source": [
    "label.dtype"
   ]
  },
  {
=======
>>>>>>> 288965d (17/12/2021)
   "cell_type": "markdown",
   "metadata": {},
   "source": [
    "# load model, state_dict"
   ]
  },
  {
   "cell_type": "code",
<<<<<<< HEAD
   "execution_count": null,
=======
   "execution_count": 16,
>>>>>>> 288965d (17/12/2021)
   "metadata": {},
   "outputs": [],
   "source": [
    "checkpoint = torch.load(CHECKPOINT_PATH)#, map_location=device)\n",
    "model_ft.load_state_dict(checkpoint['model_state_dict'])\n",
<<<<<<< HEAD
    "optimizer_ft.load_state_dict(checkpoint['optimizer_state_dict'])\n",
=======
    "optimizer.load_state_dict(checkpoint['optimizer_state_dict'])\n",
>>>>>>> 288965d (17/12/2021)
    "epoch = checkpoint['epoch']\n",
    "loss_list = checkpoint['loss_list']\n",
    "acc_list = checkpoint['train_acc']"
   ]
  },
  {
   "cell_type": "code",
<<<<<<< HEAD
   "execution_count": null,
   "metadata": {},
   "outputs": [],
=======
   "execution_count": 17,
   "metadata": {},
   "outputs": [
    {
     "name": "stderr",
     "output_type": "stream",
     "text": [
      "/home/trucloan/anaconda3/envs/me/lib/python3.7/site-packages/ipykernel_launcher.py:13: UserWarning: Matplotlib is currently using module://ipykernel.pylab.backend_inline, which is a non-GUI backend, so cannot show the figure.\n",
      "  del sys.path[0]\n"
     ]
    },
    {
     "data": {
      "image/png": "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\n",
      "text/plain": [
       "<Figure size 1296x1044 with 1 Axes>"
      ]
     },
     "metadata": {
      "needs_background": "light"
     },
     "output_type": "display_data"
    }
   ],
>>>>>>> 288965d (17/12/2021)
   "source": [
    "#ve do thi loss (train, val)\n",
    "def visualize_loss (checkpoint, path_loss):\n",
    "    loss = checkpoint['loss_list'] \n",
    "    train_loss = [x['train_loss'] for x in loss]\n",
    "    valid_loss = [x['valid_loss'] for x in loss]\n",
    "    fig, ax = plt.subplots(figsize = (18, 14.5))\n",
    "    ax.plot(train_loss, '-gx', label='Training loss')\n",
    "    ax.plot(valid_loss , '-ro', label='Validation loss')\n",
<<<<<<< HEAD
    "    ax.set(title=\"Loss over epochs of Model \",\n",
=======
    "    ax.set(title=\"Loss over epochs of Model TFVGG19_bn \",\n",
>>>>>>> 288965d (17/12/2021)
    "    xlabel='Epoch',\n",
    "    ylabel='Loss')\n",
    "    ax.legend()\n",
    "    fig.show()\n",
    "    plt.savefig(path_loss)\n",
<<<<<<< HEAD
    "visualize_loss(checkpoint, './loss2.png')"
=======
    "visualize_loss(checkpoint, '../report/FTVGG19bn/lossTFVGG19_bn.png')"
>>>>>>> 288965d (17/12/2021)
   ]
  },
  {
   "cell_type": "code",
<<<<<<< HEAD
   "execution_count": null,
   "metadata": {},
   "outputs": [],
=======
   "execution_count": 18,
   "metadata": {},
   "outputs": [
    {
     "name": "stderr",
     "output_type": "stream",
     "text": [
      "/home/trucloan/anaconda3/envs/me/lib/python3.7/site-packages/ipykernel_launcher.py:13: UserWarning: Matplotlib is currently using module://ipykernel.pylab.backend_inline, which is a non-GUI backend, so cannot show the figure.\n",
      "  del sys.path[0]\n"
     ]
    },
    {
     "data": {
      "image/png": "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\n",
      "text/plain": [
       "<Figure size 1296x1044 with 1 Axes>"
      ]
     },
     "metadata": {
      "needs_background": "light"
     },
     "output_type": "display_data"
    }
   ],
>>>>>>> 288965d (17/12/2021)
   "source": [
    "#ve do thi acc (train, val)\n",
    "def visualize_acc (checkpoint, path_acc):\n",
    "    acclist = checkpoint['train_acc'] #\n",
    "    train_acc = [x['train_acc'] for x in acclist]\n",
    "    valid_acc = [x['valid_acc'] for x in acclist]\n",
    "    fig, ax = plt.subplots(figsize = (18, 14.5))\n",
    "    ax.plot(train_acc, '-bx', label='Training acc')\n",
    "    ax.plot(valid_acc , '-yo', label='Validation acc')\n",
    "    ax.set(title=\"Accuracy over epochs of Model \",\n",
    "    xlabel='Epoch',\n",
    "    ylabel='Accuracy')\n",
    "    ax.legend()\n",
    "    fig.show()\n",
    "    plt.savefig(path_acc)\n",
<<<<<<< HEAD
    "visualize_acc(checkpoint, './Accuracy.png')"
=======
    "visualize_acc(checkpoint, '../report/FTVGG19bn/AccuracyFTVGG19bn.png')"
>>>>>>> 288965d (17/12/2021)
   ]
  },
  {
   "cell_type": "code",
<<<<<<< HEAD
   "execution_count": null,
=======
   "execution_count": 19,
>>>>>>> 288965d (17/12/2021)
   "metadata": {},
   "outputs": [],
   "source": [
    "#test model\n",
    "def test_loop():\n",
    "    with torch.no_grad():\n",
    "        y_true = []\n",
    "        y_pred = []\n",
    "        model_ft.to(device)\n",
    "        model_ft.eval()\n",
<<<<<<< HEAD
    "        for sample in test_dataloader:\n",
    "            batch_size = sample['image'].size(0)\n",
    "            data = sample['image'].to(device)\n",
    "            target = sample['labels'].to(device)\n",
=======
    "        for data, target in test_dataloader:\n",
    "            batch_size = data.size(0)\n",
    "            data = data.to(device)\n",
    "            target = target.to(device)\n",
>>>>>>> 288965d (17/12/2021)
    "            output = model_ft(data)\n",
    "            _,pred = torch.max(output, 1)\n",
    "            y_true += target.tolist()\n",
    "            y_pred += pred.tolist()\n",
    "    return y_true, y_pred\n",
    "\n",
    "\n",
    "y_true, y_pred = test_loop()\n",
    "        "
   ]
  },
  {
   "cell_type": "code",
<<<<<<< HEAD
   "execution_count": null,
   "metadata": {},
   "outputs": [],
=======
   "execution_count": 20,
   "metadata": {},
   "outputs": [
    {
     "data": {
      "text/plain": [
       "0.9045"
      ]
     },
     "execution_count": 20,
     "metadata": {},
     "output_type": "execute_result"
    }
   ],
>>>>>>> 288965d (17/12/2021)
   "source": [
    "accuracy = accuracy_score(y_true, y_pred)\n",
    "accuracy"
   ]
  },
  {
   "cell_type": "code",
<<<<<<< HEAD
   "execution_count": null,
   "metadata": {},
   "outputs": [],
=======
   "execution_count": 21,
   "metadata": {},
   "outputs": [
    {
     "data": {
      "image/png": "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\n",
      "text/plain": [
       "<Figure size 720x720 with 2 Axes>"
      ]
     },
     "metadata": {
      "needs_background": "light"
     },
     "output_type": "display_data"
    }
   ],
>>>>>>> 288965d (17/12/2021)
   "source": [
    "cnf_matrix = confusion_matrix(y_true, y_pred)\n",
    "fix, ax = plt.subplots(figsize = (10,10))\n",
    "disp = ConfusionMatrixDisplay(confusion_matrix = cnf_matrix, display_labels = classes)\n",
    "disp.plot(include_values = True, cmap = 'viridis_r', ax = ax, xticks_rotation = 'vertical')\n",
<<<<<<< HEAD
    "plt.savefig('MatrixFT.png')"
=======
    "plt.savefig('../report/FTVGG19bn/MatrixFTVGG19bn.png')"
>>>>>>> 288965d (17/12/2021)
   ]
  },
  {
   "cell_type": "code",
<<<<<<< HEAD
   "execution_count": null,
   "metadata": {},
   "outputs": [],
   "source": [
    "path_rp = './report_FTVGG19bn.txt'\n",
=======
   "execution_count": 25,
   "metadata": {},
   "outputs": [
    {
     "name": "stdout",
     "output_type": "stream",
     "text": [
      "              precision    recall  f1-score   support\n",
      "\n",
      "      Normal       0.93      0.87      0.90      1012\n",
      "       Covid       0.88      0.94      0.91       988\n",
      "\n",
      "    accuracy                           0.90      2000\n",
      "   macro avg       0.91      0.90      0.90      2000\n",
      "weighted avg       0.91      0.90      0.90      2000\n",
      "\n"
     ]
    }
   ],
   "source": [
    "path_rp = '../report/FTVGG19bn1/report_FTVGG19bn1.txt'\n",
>>>>>>> 288965d (17/12/2021)
    "try:\n",
    "    s = classification_report(y_true, y_pred, target_names = classes)\n",
    "    with open(path_rp, mode ='x') as f:\n",
    "        f.write(s)\n",
    "    with open(path_rp) as f:\n",
    "        print(f.read())\n",
    "    f.close()\n",
    "except FileExistsError:\n",
    "    pass"
   ]
  },
  {
   "cell_type": "code",
<<<<<<< HEAD
   "execution_count": null,
=======
   "execution_count": 23,
>>>>>>> 288965d (17/12/2021)
   "metadata": {},
   "outputs": [],
   "source": [
    "# Predict images\n",
    "def img_transform(path_img):\n",
    "    img = Image.open(path_img)\n",
<<<<<<< HEAD
    "    imagetensor = test_transform(img).cuda()\n",
=======
    "    imagetensor = transform(img).cuda()\n",
>>>>>>> 288965d (17/12/2021)
    "    return imagetensor\n",
    "\n",
    "def predict(path_img, verbose = False):\n",
    "    if not verbose:\n",
    "        warnings.filterwarnings('ignore')\n",
    "    try:\n",
    "        checks_if_model_is_loaded = type(model)\n",
    "    except:\n",
    "        pass\n",
<<<<<<< HEAD
    "    model.eval()\n",
=======
    "    model_ft.eval()\n",
>>>>>>> 288965d (17/12/2021)
    "    if verbose:\n",
    "        print('Model loader ...')\n",
    "    image = img_transform(path_img)\n",
    "    image1 = image[None,:,:,:]\n",
    "    \n",
    "    with torch.no_grad():\n",
    "        outputs = model_ft(image1)\n",
    "        \n",
    "        _,pred_int = torch.max(outputs.data, 1)\n",
    "        _,top1_idx = torch.topk(outputs.data, 1, dim = 1)\n",
    "        pred_idx = int(pred_int.cpu().numpy())\n",
    "        if pred_idx == 0:\n",
    "            pred_str = str('Negative')\n",
    "            print('img: {} is: {}'.format(os.path.basename(path_img), pred_str))\n",
    "        else:\n",
    "            pred_str = str('Positive')\n",
    "            print('img: {} is: {}'.format(os.path.basename(path_img), pred_str))\n",
    "            \n",
    "    "
   ]
  },
  {
   "cell_type": "code",
<<<<<<< HEAD
   "execution_count": null,
   "metadata": {},
   "outputs": [],
   "source": [
    "pred_str = str('')\n",
    "path_image = './pred/covid.jpg'\n",
=======
   "execution_count": 24,
   "metadata": {},
   "outputs": [
    {
     "name": "stdout",
     "output_type": "stream",
     "text": [
      "img: covid.jpg is: Positive\n"
     ]
    },
    {
     "data": {
      "image/png": "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\n",
      "text/plain": [
       "<Figure size 432x288 with 1 Axes>"
      ]
     },
     "metadata": {
      "needs_background": "light"
     },
     "output_type": "display_data"
    }
   ],
   "source": [
    "pred_str = str('')\n",
    "path_image = '/media/trucloan/Data/Research/TransferLearningVGG19bnCovid1910k_images//pred/covid.jpg'\n",
>>>>>>> 288965d (17/12/2021)
    "\n",
    "img = Image.open(path_image)\n",
    "plt.imshow(img)\n",
    "\n",
    "predict(path_image)\n",
    "plt.title('predict:{}'.format(pred_str))\n",
    "plt.text(5,45,'top {}:{}'.format(1,pred_str), bbox = dict(fc='yellow'))\n",
    "plt.show()"
   ]
  }
 ],
 "metadata": {
  "kernelspec": {
   "display_name": "Python 3",
   "language": "python",
   "name": "python3"
  },
  "language_info": {
   "codemirror_mode": {
    "name": "ipython",
    "version": 3
   },
   "file_extension": ".py",
   "mimetype": "text/x-python",
   "name": "python",
   "nbconvert_exporter": "python",
   "pygments_lexer": "ipython3",
   "version": "3.7.6"
  }
 },
 "nbformat": 4,
 "nbformat_minor": 4
}
